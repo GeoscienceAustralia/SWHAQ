{
 "cells": [
  {
   "cell_type": "code",
   "execution_count": null,
   "metadata": {},
   "outputs": [],
   "source": [
    "%matplotlib inline\n",
    "\n",
    "from os.path import join as pjoin\n",
    "import pandas as pd\n",
    "import geopandas as gpd\n",
    "import seaborn as sns\n",
    "import matplotlib.pyplot as plt"
   ]
  },
  {
   "cell_type": "code",
   "execution_count": null,
   "metadata": {},
   "outputs": [],
   "source": [
    "basepath = \"X:/georisk/HaRIA_B_Wind/projects/qfes_swha/data/derived/exposure\"\n",
    "df1 = pd.read_csv(pjoin(basepath, '2019', \"Mackay_ResidentialExposure_NEXISV10_M4_updated.csv\" ), index_col=\"LID\")\n",
    "df2 = pd.read_csv(pjoin(basepath, '2020', \"Mackay_ResidentialExposure_NEXIS_2020_M4_updated.csv\" ), index_col=\"LID\")"
   ]
  },
  {
   "cell_type": "code",
   "execution_count": null,
   "metadata": {},
   "outputs": [],
   "source": [
    "joindf = df1.join(df2, how='inner',lsuffix=\"2019\", rsuffix=\"2020\")"
   ]
  },
  {
   "cell_type": "code",
   "execution_count": null,
   "metadata": {},
   "outputs": [],
   "source": [
    "fig, ax = plt.subplots(1, 2, figsize=(12,6), sharey=True)\n",
    "sns.scatterplot(x=\"M42019\", y=\"M42020\", data=joindf, hue='WIND_VULNERABILITY_FUNCTION_ID2019', ax=ax[0])\n",
    "sns.scatterplot(x=\"M42019\", y=\"M42020\", data=joindf, hue='WIND_VULNERABILITY_FUNCTION_ID2020', ax=ax[1])\n",
    "ax[0].set_xlim((0.5, 1.4))\n",
    "ax[0].set_ylim((0.5, 1.4))\n",
    "ax[0].set_aspect(\"equal\")\n",
    "ax[0].set_title(\"2019 Vulnerability functions\")\n",
    "ax[1].set_xlim((0.5, 1.4))\n",
    "ax[1].set_ylim((0.5, 1.4))\n",
    "ax[1].set_aspect(\"equal\")\n",
    "ax[1].set_title(\"2020 Vulnerability functions\")\n",
    "ax[1].legend(bbox_to_anchor=(1.05, 1))"
   ]
  },
  {
   "cell_type": "code",
   "execution_count": null,
   "metadata": {},
   "outputs": [],
   "source": []
  }
 ],
 "metadata": {
  "kernelspec": {
   "display_name": "Python 3",
   "language": "python",
   "name": "python3"
  },
  "language_info": {
   "codemirror_mode": {
    "name": "ipython",
    "version": 3
   },
   "file_extension": ".py",
   "mimetype": "text/x-python",
   "name": "python",
   "nbconvert_exporter": "python",
   "pygments_lexer": "ipython3",
   "version": "3.7.6"
  }
 },
 "nbformat": 4,
 "nbformat_minor": 4
}
