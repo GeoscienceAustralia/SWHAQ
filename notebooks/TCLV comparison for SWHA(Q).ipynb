{
 "cells": [
  {
   "cell_type": "markdown",
   "metadata": {},
   "source": [
    "# Exploring the TCLV dataset\n",
    "\n",
    "This notebook intends to give a cursory inspection of the TCLV data provided by Department of Environment and Science (DES) as part of the Severe Wind Hazard Assessment (SWHA) for Queensland project. \n",
    "\n",
    "The TCLV data has been extracted from a suite of 11 general circulation models, representing two representative concentration pathways (RCPs - RCP8.5 and RCP4.5; [ref]). There is an additional member of this suite, which is based on a dynamical downscaling of the ERA Interim reanalysis ([ref]). \n",
    "\n",
    "The TCLV data are provided in a common file format (described below), which includes location, date, time and intensity information. We can use this data as input for a TC hazard assessment for future climate scenarios. \n",
    "\n",
    "Firstly though, we want to understand what the TCLV data is suggesting about future tropical cyclone behaviour in the Queensland region. We do this by exploring the relative frequency and intensity distributions of the TCLV sets, split into separate periods (1981-2010 and 2081-2100). While the SWHA project will produce hazard information for 20-year periods centred on 2030, 2050, 2070 and 2090, we will here only look at the changes that are apparent by the end of the century.\n",
    "\n",
    "We start this by importing the required libraries for the analysis. "
   ]
  },
  {
   "cell_type": "code",
   "execution_count": null,
   "metadata": {},
   "outputs": [],
   "source": [
    "%matplotlib inline\n",
    "\n",
    "import os\n",
    "from os.path import join as pjoin\n",
    "from matplotlib import pyplot as plt\n",
    "\n",
    "import re\n",
    "import numpy as np\n",
    "import pandas as pd\n",
    "import seaborn as sns\n",
    "import datetime as dt\n",
    "import cartopy.crs as ccrs\n",
    "import statsmodels.api as sm\n",
    "\n",
    "from sklearn.cluster import KMeans\n",
    "\n",
    "sns.set_context(\"poster\")"
   ]
  },
  {
   "cell_type": "markdown",
   "metadata": {},
   "source": [
    "Define a number of functions to manipulate the data"
   ]
  },
  {
   "cell_type": "code",
   "execution_count": null,
   "metadata": {},
   "outputs": [],
   "source": [
    "def load_track_file(filename):\n",
    "    \"\"\"\n",
    "    Load a TCLV file into a :class:`pandas.DataFrame`, and add a field \n",
    "    representing the age of each TCLV in hours, and the pressure difference.\n",
    "    \n",
    "    :param str filename: Path to a TCLV data file\n",
    "    \n",
    "    :returns: :class:`pandas.DataFrame`\n",
    "    \"\"\"\n",
    "    # This assumes the format of the TCLV files is identical\n",
    "    columns = ['num', 'year', 'month', 'day', 'hour', 'lon', 'lat',\n",
    "               'pmin', 'vorticity', 'vmax', 'tanomsum','tanomdiff',\n",
    "               'pmslanom', 'poci', 'reff','ravg','asym']\n",
    "    df = pd.read_csv(filename, delimiter=' ', skipinitialspace=True,\n",
    "                     names=columns, parse_dates={'datetime':[1,2,3,4]},\n",
    "                     keep_date_col=True, \n",
    "                     dtype={'year':int, 'month':int, 'day':int})\n",
    "    df['dt'] = df.groupby('num')['datetime'].apply(lambda x: x.diff())\n",
    "    df['dt'] = df['dt'].transform(lambda x: x.total_seconds())\n",
    "\n",
    "    df['age'] = df.groupby('num')['dt'].apply(np.cumsum).fillna(0)/3600.\n",
    "    # Throw in the pressure deficit for good measure:\n",
    "    df['pdiff'] = df['poci'] - df['pmin']\n",
    "    return df\n",
    "\n",
    "def filter_tracks(df, start_year=1980, end_year=2010, zeta=0, age=36):\n",
    "    \"\"\"\n",
    "    Takes a `DataFrame` and filters on the basis of a prescribed vorticity \n",
    "    threshold, lifetime and a given time period.\n",
    "    \n",
    "    :param df: :class:`pandas.DataFrame` that holds the TCLV data\n",
    "    :param int start_year: Starting year of the time period to filter\n",
    "    :param int end_year: End year of the period to filter\n",
    "    :param float zeta: Vorticity threshold to filter the TCLV data. \n",
    "                       This can be a positive value, as we filter on the\n",
    "                       absolute value of the field.\n",
    "    :param int age: Minimum age of the TCLVs in hours\n",
    "    \n",
    "    \"\"\"\n",
    "    tracks = df.groupby('num')\n",
    "    filterdf = tracks.filter(lambda x: (x['datetime'].dt.year.min() >= start_year) &\\\n",
    "                                       (x['datetime'].dt.year.max() <= end_year) &\\\n",
    "                                       (x['age'].max() >= age) &\\\n",
    "                                       (np.abs(x['vorticity'].min()) > zeta))\n",
    "    return filterdf\n",
    "\n",
    "def calculate_frequency(df, start_year, end_year):\n",
    "    \"\"\"\n",
    "    Calculate the average frequency of TCLVs between `start_year` and `end_year`\n",
    "    \n",
    "    :param df: :class:`pandas.DataFrame` of TCLV data\n",
    "    :param int start_year: Start year of the time period to calculate the frequency\n",
    "    :param int end_year: End year of the time period to calculate the frequency.\n",
    "    \n",
    "    :returns: Mean frequency of TCLV occurrence\n",
    "    \"\"\"\n",
    "    pertracks = filter_tracks(df, start_year, end_year)\n",
    "    annual_count = pertracks.groupby('year').num.nunique().reset_index()\n",
    "    frequency = annual_count.mean().num\n",
    "    return frequency\n",
    "\n",
    "def quantiles(df, varname='pmin' ):\n",
    "    \"\"\"\n",
    "    Calculate quantiles for a given variable in the dataframe\n",
    "    \"\"\"\n",
    "    if len(df) == 0:\n",
    "        return np.zeros(100)\n",
    "    q = np.quantile(df[varname], np.arange(0,1,0.01))\n",
    "\n",
    "    return q"
   ]
  },
  {
   "cell_type": "code",
   "execution_count": null,
   "metadata": {},
   "outputs": [],
   "source": [
    "def plotsummary(df, title, filename=None):\n",
    "    fig = plt.figure(figsize=(10,10))\n",
    "    fig.suptitle(title)\n",
    "    ax1 = plt.subplot(2,2,1)\n",
    "    pmindata = df.loc[df.groupby(\"num\")[\"pmin\"].idxmin()]\n",
    "    sns.histplot(pmindata['pmin'], ax=ax1)\n",
    "    for x in pmindata['pmin'].quantile([.1, .25, .5, .75, 0.9]).values:\n",
    "        ax1.axvline(x,  ls='--',color='k')\n",
    "    ax1.set_xlabel(\"Minimum central pressure (hPa)\")\n",
    "    \n",
    "    ax2 = plt.subplot(2,2,2)\n",
    "\n",
    "    vmaxdata = df.loc[df.groupby(\"num\")[\"vmax\"].idxmax()]\n",
    "    sns.histplot(vmaxdata['vmax'], ax=ax2)\n",
    "    for x in vmaxdata['vmax'].quantile([.1, .25, .5, .75, 0.9]).values:\n",
    "        ax2.axvline(x,  ls='--',color='k')\n",
    "    ax2.set_xlabel('Wind speed (m/s)')\n",
    "    \n",
    "    ax3 = plt.subplot(2,2,3)\n",
    "    annual_count = df.groupby('year').num.nunique().reset_index()\n",
    "    sns.regplot(x='year',y='num',data=annual_count, ax=ax3)\n",
    "    frequency = annual_count.mean().num\n",
    "    ax3.axhline(frequency, ls='--')\n",
    "    \n",
    "    ax4 = plt.subplot(2,2,4,projection=ccrs.PlateCarree())\n",
    "    \n",
    "    ax4.coastlines()\n",
    "    sns.kdeplot(x=df.lon,y=df.lat, ax=ax4)\n",
    "    ax4.set_xlim((90,180))\n",
    "    ax4.set_ylim((-40, 0))\n",
    "    plt.tight_layout()\n",
    "    if filename:\n",
    "        plt.savefig(filename, bbox_inches='tight')"
   ]
  },
  {
   "cell_type": "code",
   "execution_count": null,
   "metadata": {},
   "outputs": [],
   "source": [
    "path = \"C:/WorkSpace/data/tclv/tracks/\"\n",
    "regex = r'all_tracks_(.+)_(rcp\\d+)\\.dat'\n",
    "f = \"all_tracks_ERAIntQ_rcp85.dat\"\n",
    "m = re.match(regex, f)\n",
    "model, rcp = m.group(1, 2)\n",
    "filename = pjoin(path, f)\n",
    "df = load_track_file(filename)\n"
   ]
  },
  {
   "cell_type": "code",
   "execution_count": null,
   "metadata": {},
   "outputs": [],
   "source": [
    "plotsummary(filter_tracks(df, zeta=0, age=36), title=\"ERA Interim\", \n",
    "            filename=\"C:/WorkSpace/data/tclv/figures/ERAInt.png\")"
   ]
  },
  {
   "cell_type": "code",
   "execution_count": null,
   "metadata": {},
   "outputs": [],
   "source": [
    "path = \"C:/WorkSpace/data/tclv/tracks/\"\n",
    "regex = r'all_tracks_(.+)_(rcp\\d+)\\.dat'\n",
    "data = {}\n",
    "files = [f for f in os.listdir(path) if os.path.isfile(pjoin(path, f))]\n",
    "for f in files:\n",
    "    if f==\"all_tracks_ERAIntQ_rcp85.dat\":\n",
    "        continue\n",
    "    if f.endswith(\".png\"):\n",
    "        continue\n",
    "        \n",
    "    print(f)\n",
    "    m = re.match(regex, f)\n",
    "    model, rcp = m.group(1, 2)\n",
    "    filename = pjoin(path, f)\n",
    "    df = load_track_file(filename)\n",
    "    label = \"{0} {1}\".format(model, rcp.upper())\n",
    "    data[label]=df\n",
    "    \n"
   ]
  },
  {
   "cell_type": "code",
   "execution_count": null,
   "metadata": {},
   "outputs": [],
   "source": [
    "freqdf = pd.DataFrame(columns=['model', 'RCP', 'current_freq', 'future_freq'])\n",
    "for m, df in data.items():\n",
    "    current_freq = calculate_frequency(df, 1980, 2010)\n",
    "    future_freq = calculate_frequency(df, 2080, 2100)\n",
    "    model, rcp = m.split(' ')\n",
    "    freqdf = freqdf.append({'model':model, 'RCP':rcp, 'current_freq':current_freq, \n",
    "                            'future_freq':future_freq}, ignore_index=True)\n",
    "    \n",
    "    print(\"{0}: current: {1:.2f} | future: {2:.2f}\".format(m, current_freq, future_freq))\n",
    "    \n",
    "kmeans = KMeans(n_clusters=2, random_state=0).fit(freqdf[['current_freq', 'future_freq']].values)\n",
    "freqdf['cluster'] = kmeans.labels_\n",
    "\n",
    "\n",
    "g1cf = freqdf[freqdf['cluster']==1]['current_freq'].mean()\n",
    "g1ff = freqdf[freqdf['cluster']==1]['future_freq'].mean()\n",
    "\n",
    "g2cf = freqdf[freqdf['cluster']==0]['current_freq'].mean()\n",
    "g2ff = freqdf[freqdf['cluster']==0]['future_freq'].mean()"
   ]
  },
  {
   "cell_type": "code",
   "execution_count": null,
   "metadata": {},
   "outputs": [],
   "source": [
    "fig, ax = plt.subplots(figsize=(10,8))\n",
    "sns.scatterplot('current_freq', 'future_freq', data=freqdf, hue='model', style='RCP',palette=sns.color_palette(\"Paired\",11))\n",
    "ax.set_xlabel(\"Current frequency (TCLVs/year)\")\n",
    "ax.set_ylabel(\"Projected frequency (TCLVs/year)\")\n",
    "ax.set_xlim((0,25))\n",
    "ax.set_ylim((0,25))\n",
    "ax.plot(np.arange(0,25), np.arange(0,25), 'r--')\n",
    "ax.scatter(g1cf, g1ff, label=\"Group 1\", color='k', marker='*')\n",
    "ax.scatter(g2cf, g2ff, label=\"Group 2\", color='k', marker='+')\n",
    "plt.legend(loc='center left', bbox_to_anchor=(1, 0.5))\n",
    "plt.savefig(\"C:/WorkSpace/data/tclv/figures/frequency_projection.png\", bbox_inches='tight')"
   ]
  },
  {
   "cell_type": "markdown",
   "metadata": {},
   "source": [
    "There are two clusters of models here, one that starts around 20 TCs/year in current climate, and another that is around 12-14 TCs/year. Both clusters show (on average) a decline in TC frequency. Two models indicate a (small) increase in TC frequency, and two no change. \n",
    "\n",
    "Interestingly, there's no apparent relationship with the RCP (4.5 is shown with dots, 8.5 is with crosses). Maybe there's a tendancy for a greater reduction in frequency, but it's unlikily to be statistically significant (moreso because the number of simulations is too low to give this any significance)."
   ]
  },
  {
   "cell_type": "code",
   "execution_count": null,
   "metadata": {},
   "outputs": [],
   "source": [
    "freqdf[freqdf['cluster']==0][['model', 'RCP','current_freq', 'future_freq']]"
   ]
  },
  {
   "cell_type": "code",
   "execution_count": null,
   "metadata": {},
   "outputs": [],
   "source": [
    "freqdf[freqdf['cluster']==1][['model', 'RCP','current_freq', 'future_freq']]"
   ]
  },
  {
   "cell_type": "markdown",
   "metadata": {},
   "source": [
    "The mean change in frequency of each cluster is shown below. For both clusters, the RCP 8.5 simulations project a greater reduction in TC frequency compared to the RCP 4.5.  "
   ]
  },
  {
   "cell_type": "code",
   "execution_count": null,
   "metadata": {},
   "outputs": [],
   "source": [
    "freqdf.groupby(['cluster', 'RCP']).apply(lambda d: 1.0 - np.mean(d.future_freq/d.current_freq))"
   ]
  },
  {
   "cell_type": "code",
   "execution_count": null,
   "metadata": {},
   "outputs": [],
   "source": [
    "clusters = freqdf.groupby(['cluster', 'RCP'])[['model', 'RCP', 'current_freq', 'future_freq']]\n",
    "for key, item in clusters:\n",
    "    print(key, \"\\n\")\n",
    "    print(clusters.get_group(key), \"\\n\\n\")"
   ]
  },
  {
   "cell_type": "code",
   "execution_count": null,
   "metadata": {},
   "outputs": [],
   "source": [
    "qdf = pd.DataFrame(columns=['model', 'RCP', 'q', 'cq', 'fq'])\n",
    "for m, df in data.items():\n",
    "    print(m)\n",
    "    cq = quantiles(filter_tracks(df, 1980, 2010))\n",
    "    fq = quantiles(filter_tracks(df, 2080, 2100))\n",
    "    model, rcp = m.split(' ')\n",
    "    for i,q in enumerate(np.arange(0,1,0.01)):\n",
    "        qdf = qdf.append({'model':model, 'RCP':rcp, 'q':q,\n",
    "                      'cq':cq[i], \n",
    "                      'fq':fq[i]}, \n",
    "                     ignore_index=True)\n"
   ]
  },
  {
   "cell_type": "code",
   "execution_count": null,
   "metadata": {},
   "outputs": [],
   "source": [
    "g = sns.lmplot('cq','fq',data=qdf[qdf['RCP']=='RCP85'],hue='model',palette=sns.color_palette(\"Paired\",11),\n",
    "              fit_reg=False,scatter_kws={'s':5})\n",
    "    \n",
    "#dir(g)\n",
    "g.set_xlabels(\"Current climate\")\n",
    "g.set_ylabels(\"Future climate\")\n",
    "g.ax.set_xlim((940, 1010))\n",
    "g.ax.set_ylim((940,1010))\n",
    "plt.plot(np.arange(900,1010), np.arange(900,1010),c='r',ls='--',zorder=0)"
   ]
  },
  {
   "cell_type": "markdown",
   "metadata": {},
   "source": [
    "A quantile-quantile plot of the minimum pressures for current and future climates suggests there may be a change in the distribution. The lowest quantiles (i.e. lower pressure values) appear to tend below the 1-to-1 line, indicating that the most intense TCLVs in the future are more intense than those in the current climate simulation.\n",
    "\n",
    "Maybe the same for maximum winds will be more revealing."
   ]
  },
  {
   "cell_type": "code",
   "execution_count": null,
   "metadata": {},
   "outputs": [],
   "source": [
    "vdf = pd.DataFrame(columns=['model', 'RCP', 'q', 'cq', 'fq'])\n",
    "for m, df in data.items():\n",
    "    print(m)\n",
    "    cq = quantiles(filter_tracks(df, 1980, 2010), 'vmax')\n",
    "    fq = quantiles(filter_tracks(df, 2080, 2100), 'vmax')\n",
    "    model, rcp = m.split(' ')\n",
    "    for i,q in enumerate(np.arange(0,1,0.01)):\n",
    "        vdf = vdf.append({'model':model, 'RCP':rcp, 'q':q,\n",
    "                      'cq':cq[i], \n",
    "                      'fq':fq[i]}, \n",
    "                     ignore_index=True)"
   ]
  },
  {
   "cell_type": "code",
   "execution_count": null,
   "metadata": {},
   "outputs": [],
   "source": [
    "g = sns.lmplot('cq','fq',data=vdf[vdf['RCP']=='RCP45'],hue='model',palette=sns.color_palette(\"Paired\",11),\n",
    "              fit_reg=False,scatter_kws={'s':5}, )\n",
    "    \n",
    "g.ax.set_xlabel(\"Current climate\")\n",
    "g.ax.set_ylabel(\"Future climate\")\n",
    "g.ax.set_xlim((0, 100))\n",
    "g.ax.set_ylim((0,100))\n",
    "g.ax.plot(np.arange(0,100), np.arange(0,100), 'r--',zorder=0)"
   ]
  },
  {
   "cell_type": "markdown",
   "metadata": {},
   "source": [
    "And it is. The figure is flipped here, but there is a clear indication that the distribution of the maximum wind speed of TCLVs in the future climate simulations is more intense than the current climate. Nearly all the models sit to the left of the 1-to-1 line, with a greater shift at higher wind speeds. \n",
    "\n",
    "This qualitatively matches the generalised statement about increasing proportion of the most intense cyclones. These QQ plots say nothing about the frequency (see above), and hence the overall likelihood of extreme TCs. "
   ]
  },
  {
   "cell_type": "code",
   "execution_count": null,
   "metadata": {},
   "outputs": [],
   "source": [
    "g = sns.pairplot(vdf, hue='RCP')"
   ]
  },
  {
   "cell_type": "code",
   "execution_count": null,
   "metadata": {},
   "outputs": [],
   "source": [
    "for m, df in data.items():\n",
    "    plotsummary(filter_tracks(df, start_year=1981, end_year=2010, zeta=0, age=36), \n",
    "                title=\"{0} ({1} - {2})\".format(m, 1981, 2010),\n",
    "                filename=pjoin(\"C:/WorkSpace/data/tclv/figures/20190919/\",\n",
    "                               \"{0}_1981_2010.png\".format(m.replace(' ','_'))))"
   ]
  },
  {
   "cell_type": "code",
   "execution_count": null,
   "metadata": {},
   "outputs": [],
   "source": [
    "for m, df in data.items():\n",
    "    plotsummary(filter_tracks(df, start_year=2081, end_year=2100, zeta=0, age=36), \n",
    "                title=\"{0} ({1} - {2})\".format(m, 2081, 2100),\n",
    "                filename=pjoin(\"C:/WorkSpace/data/tclv/figures/20190919/\",\n",
    "                               \"{0}_2081_2100.png\".format(m.replace(' ','_'))))"
   ]
  },
  {
   "cell_type": "code",
   "execution_count": null,
   "metadata": {},
   "outputs": [],
   "source": [
    "annual_count = df.groupby('year').num.nunique().reset_index()\n",
    "X = annual_count.year\n",
    "X = sm.add_constant(X)\n",
    "y = annual_count.num\n",
    "results = sm.OLS(y, X).fit()\n",
    "print(results.summary())"
   ]
  },
  {
   "cell_type": "code",
   "execution_count": null,
   "metadata": {},
   "outputs": [],
   "source": [
    "results.params"
   ]
  },
  {
   "cell_type": "code",
   "execution_count": null,
   "metadata": {},
   "outputs": [],
   "source": []
  }
 ],
 "metadata": {
  "file_extension": ".py",
  "language_info": {
   "codemirror_mode": {
    "name": "ipython",
    "version": 3
   },
   "name": "python"
  },
  "mimetype": "text/x-python",
  "name": "python",
  "npconvert_exporter": "python",
  "pygments_lexer": "ipython3",
  "version": 3
 },
 "nbformat": 4,
 "nbformat_minor": 2
}
