{
 "cells": [
  {
   "cell_type": "code",
   "execution_count": null,
   "metadata": {},
   "outputs": [],
   "source": [
    "%matplotlib inline\n",
    "import os\n",
    "\n",
    "import numpy as np\n",
    "import xarray as xr\n",
    "import pandas as pd\n",
    "from matplotlib import pyplot as plt\n",
    "from matplotlib import patheffects\n",
    "from matplotlib.ticker import LogLocator, NullFormatter\n",
    "from scipy.stats import genpareto, lognorm\n",
    "\n",
    "import seaborn as sns\n",
    "context = 'talk'\n",
    "sns.set_context(context)\n",
    "#sns.set_style('whitegrid')\n",
    "\n",
    "plt.rcParams.update({\n",
    "    \"figure.facecolor\":  (1.0, 1.0, 1.0, 1),  # red   with alpha = 30%\n",
    "    \"axes.facecolor\":    (1.0, 1.0, 1.0, 1),  # green with alpha = 50%\n",
    "    \"savefig.facecolor\": (1.0, 1.0, 1.0, 1),  # blue  with alpha = 20%\n",
    "})\n",
    "majlocator = LogLocator()\n",
    "\n",
    "minlocator = LogLocator(base=10.0, subs=np.arange(0.1, 1, 0.1), numticks=12)\n",
    "intervals = np.array([5, 10, 25, 50, 100, 250, 500, 1000, 2000, 5000])\n",
    "pe = patheffects.withStroke(linewidth=5, foreground='w')"
   ]
  },
  {
   "cell_type": "code",
   "execution_count": null,
   "metadata": {},
   "outputs": [],
   "source": [
    "mu, xi, sigma = 0, .5, 15\n",
    "npyr = 365.25\n",
    "baservs = lognorm.rvs(xi, mu, sigma, size=int(1000*npyr))\n",
    "cdist, cbins, patches = plt.hist(baservs, bins=np.arange(0, 100, 5), density=True)\n"
   ]
  },
  {
   "cell_type": "code",
   "execution_count": null,
   "metadata": {},
   "outputs": [],
   "source": [
    "lognorm.stats(xi, mu, sigma, moments='mvsk')"
   ]
  },
  {
   "cell_type": "code",
   "execution_count": null,
   "metadata": {},
   "outputs": [],
   "source": [
    "pct = 0.99\n",
    "rate = (1. - pct)\n",
    "threshold = np.percentile(baservs, pct)\n",
    "y = baservs[baservs > threshold] - threshold\n",
    "# Fit the tail of the distribution above the threshold\n",
    "gpd = genpareto.fit(y)\n",
    "\n",
    "def returnLevels(intervals, mu, xi, sigma, rate, npyr=365.25):\n",
    "    rp = mu + (sigma / xi) * (np.power(intervals * npyr * rate, xi) - 1.)\n",
    "    return rp\n",
    "\n",
    "aep = 1./intervals\n",
    "fig, ax = plt.subplots(1, 1, figsize=(10,6))\n",
    "baservals = returnLevels(intervals, gpd[1], gpd[0], gpd[2], rate)\n",
    "rvals2 = returnLevels(intervals, gpd[1], gpd[0], gpd[2], rate/2)\n",
    "rvals2b = returnLevels(intervals, gpd[1], gpd[0], gpd[2], rate*1.5)\n",
    "ax.semilogy(baservals, aep, color='#2E86C1', label='Current frequency', path_effects=[pe])\n",
    "#ax.semilogy(rvals2b, aep, color='k', linestyle='--', label='Increased frequency')\n",
    "#ax.semilogy(rvals2, aep, color='k', label='Reduced frequency')\n",
    "ax.set_xlabel(\"Wind speed (m/s)\")\n",
    "ax.set_ylabel(\"AEP\")\n",
    "ax.yaxis.set_major_locator(majlocator)\n",
    "ax.yaxis.set_minor_locator(minlocator)\n",
    "ax.yaxis.set_minor_formatter(NullFormatter())\n",
    "ax.grid()\n",
    "ax.grid(which='minor', linestyle='--', linewidth=0.5)\n",
    "ax.legend(fontsize='x-small')\n",
    "axin = ax.inset_axes([0.1, 0.1, 0.3, 0.3])\n",
    "sns.histplot(baservs, bins=np.arange(0, 100, 2.5), element=\"step\", stat=\"density\", fill=False, ax=axin, color='#2E86C1')\n",
    "axin.yaxis.label.set_visible(False)\n",
    "plt.savefig(\"current_ari.png\", dpi=300, bbox_inches=\"tight\")"
   ]
  },
  {
   "cell_type": "code",
   "execution_count": null,
   "metadata": {},
   "outputs": [],
   "source": [
    "fig, ax = plt.subplots(1, 1, figsize=(10,6))\n",
    "ax.semilogy(baservals, aep, color='#2E86C1', label='Current frequency', path_effects=[pe])\n",
    "ax.semilogy(rvals2b, aep, color='k', linestyle='--', label='Increased frequency', path_effects=[pe])\n",
    "ax.semilogy(rvals2, aep, color='k', label='Reduced frequency')\n",
    "ax.set_xlabel(\"Wind speed (m/s)\")\n",
    "ax.set_ylabel(\"AEP\")\n",
    "ax.yaxis.set_major_locator(majlocator)\n",
    "ax.yaxis.set_minor_locator(minlocator)\n",
    "ax.yaxis.set_minor_formatter(NullFormatter())\n",
    "ax.grid()\n",
    "ax.grid(which='minor', linestyle='--', linewidth=0.5)\n",
    "ax.legend(fontsize='x-small')\n",
    "axin = ax.inset_axes([0.1, 0.1, 0.3, 0.3])\n",
    "sns.histplot(baservs, bins=np.arange(0, 100, 2.5), element=\"step\", stat=\"density\", fill=False, ax=axin, color='#2E86C1')\n",
    "axin.yaxis.label.set_visible(False)\n",
    "plt.savefig(\"dfreq_ari.png\", dpi=300, bbox_inches=\"tight\")"
   ]
  },
  {
   "cell_type": "markdown",
   "metadata": {},
   "source": [
    "This figure shows the change in AEP for given wind speeds, when the frequency is reduced by 50%. The inset figure shows the distribution of wind speeds. In this case, the distributions are identical as they normalised (area below the curve is unity). The result of reducing the frequency is to move the AEP curve downwards. Also shown is the impact of increasing the frequency by 50%. "
   ]
  },
  {
   "cell_type": "code",
   "execution_count": null,
   "metadata": {},
   "outputs": [],
   "source": [
    "mu, xi, sigma = 0, .5, 17\n",
    "npyr = 365.25\n",
    "rvs = lognorm.rvs(xi, mu, sigma, size=int(1000*npyr))\n",
    "#ax.step(cbins[:-1], cdist,  color='k')threshold = np.percentile(rvs, pct)\n",
    "y = rvs[rvs>threshold] - threshold\n",
    "# Fit the tail of the distribution above the threshold\n",
    "gpd = genpareto.fit(y)\n",
    "rvals3 = returnLevels(intervals, gpd[1], gpd[0], gpd[2], rate)\n",
    "\n",
    "fig, ax = plt.subplots(1, 1, figsize=(10,6))\n",
    "\n",
    "ax.semilogy(baservals, aep, color='#2E86C1', label='Current intensity', path_effects=[pe])\n",
    "ax.semilogy(rvals3, aep, color='k', label='Increased mean intensity', path_effects=[pe])\n",
    "ax.set_xlabel(\"Wind speed (m/s)\")\n",
    "ax.set_ylabel(\"AEP\")\n",
    "ax.yaxis.set_major_locator(majlocator)\n",
    "ax.yaxis.set_minor_locator(minlocator)\n",
    "ax.yaxis.set_minor_formatter(NullFormatter())\n",
    "ax.grid()\n",
    "ax.grid(which='minor', linestyle='--', linewidth=0.5)\n",
    "ax.legend(fontsize='x-small')\n",
    "\n",
    "axin = ax.inset_axes([0.1, 0.1, 0.3, 0.3])\n",
    "sns.histplot(rvs, bins=np.arange(0, 100, 2.5), element=\"step\", stat=\"density\", fill=False, ax=axin, color='k')\n",
    "sns.histplot(baservs, bins=np.arange(0, 100, 2.5), element=\"step\", stat=\"density\", fill=False, ax=axin, color='#2E86C1')\n",
    "axin.yaxis.label.set_visible(False)\n",
    "plt.savefig(\"dmean_ari.png\", dpi=300, bbox_inches=\"tight\")"
   ]
  },
  {
   "cell_type": "code",
   "execution_count": null,
   "metadata": {},
   "outputs": [],
   "source": [
    "mu, xi, sigma = 0, .55, 15\n",
    "npyr = 365.25\n",
    "rvs = lognorm.rvs(xi, mu, sigma, size=int(1000*npyr))\n",
    "\n",
    "threshold = np.percentile(rvs, pct)\n",
    "y = rvs[rvs>threshold] - threshold\n",
    "# Fit the tail of the distribution above the threshold\n",
    "gpd = genpareto.fit(y)\n",
    "rvals4 = returnLevels(intervals, gpd[1], gpd[0], gpd[2], rate)\n",
    "fig, ax = plt.subplots(1, 1, figsize=(10,6))\n",
    "\n",
    "ax.semilogy(baservals, aep, color='#2E86C1', label='Current intensity', path_effects=[pe])\n",
    "ax.semilogy(rvals4, aep, color='k', label='Distribution shift', path_effects=[pe])\n",
    "ax.set_xlabel(\"Wind speed (m/s)\")\n",
    "ax.set_ylabel(\"AEP\")\n",
    "ax.yaxis.set_major_locator(majlocator)\n",
    "ax.yaxis.set_minor_locator(minlocator)\n",
    "ax.yaxis.set_minor_formatter(NullFormatter())\n",
    "ax.grid()\n",
    "ax.grid(which='minor', linestyle='--', linewidth=0.5)\n",
    "ax.legend(fontsize='x-small')\n",
    "\n",
    "axin = ax.inset_axes([0.1, 0.1, 0.3, 0.3])\n",
    "sns.histplot(rvs, bins=np.arange(0, 100, 2.5), element=\"step\", stat=\"density\", fill=False, ax=axin, color='k')\n",
    "sns.histplot(baservs, bins=np.arange(0, 100, 2.5), element=\"step\", stat=\"density\", fill=False, ax=axin, color='#2E86C1')\n",
    "axin.yaxis.label.set_visible(False)\n",
    "plt.savefig(\"ddist_ari.png\", dpi=300, bbox_inches=\"tight\")"
   ]
  },
  {
   "cell_type": "code",
   "execution_count": null,
   "metadata": {},
   "outputs": [],
   "source": [
    "mu, xi, sigma = 0, .55, 15\n",
    "npyr = 365.25\n",
    "rvs = lognorm.rvs(xi, mu, sigma, size=int(1000*npyr))\n",
    "\n",
    "threshold = np.percentile(rvs, pct)\n",
    "y = rvs[rvs>threshold] - threshold\n",
    "# Fit the tail of the distribution above the threshold\n",
    "gpd = genpareto.fit(y)\n",
    "rvals5 = returnLevels(intervals, gpd[1], gpd[0], gpd[2], rate*.5)\n",
    "fig, ax = plt.subplots(1, 1, figsize=(10,6))\n",
    "\n",
    "ax.semilogy(baservals, aep, color='#2E86C1', label='Current intensity', path_effects=[pe])\n",
    "ax.semilogy(rvals5, aep, color='k', label='Distribution shift\\nreduced frequency', path_effects=[pe])\n",
    "ax.set_xlabel(\"Wind speed (m/s)\")\n",
    "ax.set_ylabel(\"AEP\")\n",
    "ax.yaxis.set_major_locator(majlocator)\n",
    "ax.yaxis.set_minor_locator(minlocator)\n",
    "ax.yaxis.set_minor_formatter(NullFormatter())\n",
    "ax.grid()\n",
    "ax.grid(which='minor', linestyle='--', linewidth=0.5)\n",
    "ax.legend(fontsize='x-small')\n",
    "axin = ax.inset_axes([0.1, 0.1, 0.3, 0.3])\n",
    "sns.histplot(rvs, bins=np.arange(0, 100, 2.5), element=\"step\", stat=\"density\", fill=False, ax=axin, color='k')\n",
    "sns.histplot(baservs, bins=np.arange(0, 100, 2.5), element=\"step\", stat=\"density\", fill=False, ax=axin, color='#2E86C1')\n",
    "axin.yaxis.label.set_visible(False)\n",
    "\n",
    "x = baservals[np.argmin(np.abs(baservals - rvals5))]\n",
    "y = aep[np.argmin(np.abs(baservals - rvals5))]\n",
    "ax.annotate(\"Crossover\", xy=(x+5, y*0.95), xytext=(85, 0.02),\n",
    "            arrowprops=dict(arrowstyle='->', facecolor='k'))\n",
    "None\n",
    "fig.tight_layout()\n",
    "plt.savefig(\"dfreqdist_ari.png\", dpi=300, bbox_inches=\"tight\")"
   ]
  },
  {
   "cell_type": "markdown",
   "metadata": {},
   "source": [
    "The crossover point above will vary depending on the combination of the intensity distribution change and the frequency change. A larger decrease in the frequency would shift the crossover point further to the right (we use a 50% reduction in this example).  "
   ]
  }
 ],
 "metadata": {
  "kernelspec": {
   "display_name": "Python 3",
   "language": "python",
   "name": "python3"
  },
  "language_info": {
   "codemirror_mode": {
    "name": "ipython",
    "version": 3
   },
   "file_extension": ".py",
   "mimetype": "text/x-python",
   "name": "python",
   "nbconvert_exporter": "python",
   "pygments_lexer": "ipython3",
   "version": "3.7.12"
  }
 },
 "nbformat": 4,
 "nbformat_minor": 4
}
