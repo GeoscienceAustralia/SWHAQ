{
 "cells": [
  {
   "cell_type": "code",
   "execution_count": 1,
   "metadata": {},
   "outputs": [],
   "source": [
    "import pandas as pd\r\n",
    "import os\r\n",
    "import numpy as np\r\n"
   ]
  },
  {
   "cell_type": "code",
   "execution_count": 62,
   "metadata": {},
   "outputs": [],
   "source": [
    "# read in exposure data\r\n",
    "datapath = r\"X:\\georisk\\HaRIA_B_Wind\\projects\\qfes_swha\\data\" \\\r\n",
    "           r\"\\derived\\exposure\\2021\"\r\n",
    "filename = \"SEQ_ResidentialExposure_NEXIS_2021_M4_updated_v2.csv\"\r\n",
    "sourcedf = pd.read_csv(os.path.join(datapath, filename), index_col='LID')"
   ]
  },
  {
   "cell_type": "code",
   "execution_count": 63,
   "metadata": {},
   "outputs": [],
   "source": [
    "datapath2 = r\"X:\\georisk\\HaRIA_B_Wind\\projects\\qfes_swha\\data\" \\\r\n",
    "           r\"\\derived\\exposure\\2022\"\r\n",
    "destfile = \"SEQ_Residential_Wind_Exposure_2021_TCRM_2022_VulnCurves_AS4055_M4_updated_v2.csv\"\r\n",
    "destdf = pd.read_csv(os.path.join(datapath2, destfile), index_col='LID')"
   ]
  },
  {
   "cell_type": "code",
   "execution_count": 64,
   "metadata": {},
   "outputs": [],
   "source": [
    "mydf = pd.DataFrame(destdf.loc[sourcedf.index][['LATITUDE', 'LONGITUDE', 'WIND_REGION_CLASSIFICATION', 'AS4055_CLASS', 'WIND_VULNERABILITY_FUNCTION_ID']])"
   ]
  },
  {
   "cell_type": "code",
   "execution_count": 65,
   "metadata": {},
   "outputs": [],
   "source": [
    "mydf[['AS4055_CLASS_NEW', 'WIND_FUNC']] = sourcedf[['AS4055_CLASS', 'WIND_VULNERABILITY_FUNCTION_ID']]"
   ]
  },
  {
   "cell_type": "code",
   "execution_count": 66,
   "metadata": {},
   "outputs": [
    {
     "data": {
      "text/html": [
       "<div>\n",
       "<style scoped>\n",
       "    .dataframe tbody tr th:only-of-type {\n",
       "        vertical-align: middle;\n",
       "    }\n",
       "\n",
       "    .dataframe tbody tr th {\n",
       "        vertical-align: top;\n",
       "    }\n",
       "\n",
       "    .dataframe thead th {\n",
       "        text-align: right;\n",
       "    }\n",
       "</style>\n",
       "<table border=\"1\" class=\"dataframe\">\n",
       "  <thead>\n",
       "    <tr style=\"text-align: right;\">\n",
       "      <th></th>\n",
       "      <th>AS4055_CLASS_NEW</th>\n",
       "      <th>AS4055_CLASS</th>\n",
       "    </tr>\n",
       "    <tr>\n",
       "      <th>LID</th>\n",
       "      <th></th>\n",
       "      <th></th>\n",
       "    </tr>\n",
       "  </thead>\n",
       "  <tbody>\n",
       "    <tr>\n",
       "      <th>GNAF_GAQLD161479647</th>\n",
       "      <td>N3</td>\n",
       "      <td>N3</td>\n",
       "    </tr>\n",
       "    <tr>\n",
       "      <th>GNAF_GAQLD161374642</th>\n",
       "      <td>N2</td>\n",
       "      <td>N2</td>\n",
       "    </tr>\n",
       "    <tr>\n",
       "      <th>GNAF_GAQLD161671268</th>\n",
       "      <td>N3</td>\n",
       "      <td>N3</td>\n",
       "    </tr>\n",
       "    <tr>\n",
       "      <th>GNAF_GAQLD160972431</th>\n",
       "      <td>N2</td>\n",
       "      <td>N2</td>\n",
       "    </tr>\n",
       "    <tr>\n",
       "      <th>GNAF_GAQLD160972429</th>\n",
       "      <td>N2</td>\n",
       "      <td>N2</td>\n",
       "    </tr>\n",
       "    <tr>\n",
       "      <th>...</th>\n",
       "      <td>...</td>\n",
       "      <td>...</td>\n",
       "    </tr>\n",
       "    <tr>\n",
       "      <th>GNAF_GAQLD160976058</th>\n",
       "      <td>N2</td>\n",
       "      <td>N2</td>\n",
       "    </tr>\n",
       "    <tr>\n",
       "      <th>GNAF_GAQLD425659919</th>\n",
       "      <td>N3</td>\n",
       "      <td>N3</td>\n",
       "    </tr>\n",
       "    <tr>\n",
       "      <th>GNAF_GAQLD719127747</th>\n",
       "      <td>N3</td>\n",
       "      <td>N3</td>\n",
       "    </tr>\n",
       "    <tr>\n",
       "      <th>GNAF_GAQLD425659927</th>\n",
       "      <td>N3</td>\n",
       "      <td>N3</td>\n",
       "    </tr>\n",
       "    <tr>\n",
       "      <th>GNAF_GAQLD161828815</th>\n",
       "      <td>N2</td>\n",
       "      <td>N2</td>\n",
       "    </tr>\n",
       "  </tbody>\n",
       "</table>\n",
       "<p>1229986 rows × 2 columns</p>\n",
       "</div>"
      ],
      "text/plain": [
       "                    AS4055_CLASS_NEW AS4055_CLASS\n",
       "LID                                              \n",
       "GNAF_GAQLD161479647               N3           N3\n",
       "GNAF_GAQLD161374642               N2           N2\n",
       "GNAF_GAQLD161671268               N3           N3\n",
       "GNAF_GAQLD160972431               N2           N2\n",
       "GNAF_GAQLD160972429               N2           N2\n",
       "...                              ...          ...\n",
       "GNAF_GAQLD160976058               N2           N2\n",
       "GNAF_GAQLD425659919               N3           N3\n",
       "GNAF_GAQLD719127747               N3           N3\n",
       "GNAF_GAQLD425659927               N3           N3\n",
       "GNAF_GAQLD161828815               N2           N2\n",
       "\n",
       "[1229986 rows x 2 columns]"
      ]
     },
     "execution_count": 66,
     "metadata": {},
     "output_type": "execute_result"
    }
   ],
   "source": [
    "mydf[['AS4055_CLASS_NEW', 'AS4055_CLASS']]"
   ]
  },
  {
   "cell_type": "code",
   "execution_count": 67,
   "metadata": {},
   "outputs": [
    {
     "data": {
      "text/plain": [
       "A    81760\n",
       "B        3\n",
       "Name: WIND_REGION_CLASSIFICATION, dtype: int64"
      ]
     },
     "execution_count": 67,
     "metadata": {},
     "output_type": "execute_result"
    }
   ],
   "source": [
    "mydf[mydf.AS4055_CLASS!=mydf.AS4055_CLASS_NEW]['WIND_REGION_CLASSIFICATION'].value_counts()"
   ]
  },
  {
   "cell_type": "code",
   "execution_count": 69,
   "metadata": {},
   "outputs": [
    {
     "data": {
      "text/plain": [
       "A    29056\n",
       "B        4\n",
       "Name: WIND_REGION_CLASSIFICATION, dtype: int64"
      ]
     },
     "execution_count": 69,
     "metadata": {},
     "output_type": "execute_result"
    }
   ],
   "source": [
    "mydf[mydf.WIND_FUNC!=mydf.WIND_VULNERABILITY_FUNCTION_ID]['WIND_REGION_CLASSIFICATION'].value_counts()"
   ]
  }
 ],
 "metadata": {
  "interpreter": {
   "hash": "86a561845ea3c7f992c724e4e6ff882a49e12de870605ad2e0a0567a4b39c4bc"
  },
  "kernelspec": {
   "display_name": "Python 3.9.12 64-bit ('process': conda)",
   "name": "python3"
  },
  "language_info": {
   "codemirror_mode": {
    "name": "ipython",
    "version": 3
   },
   "file_extension": ".py",
   "mimetype": "text/x-python",
   "name": "python",
   "nbconvert_exporter": "python",
   "pygments_lexer": "ipython3",
   "version": "3.9.12"
  },
  "orig_nbformat": 4
 },
 "nbformat": 4,
 "nbformat_minor": 2
}