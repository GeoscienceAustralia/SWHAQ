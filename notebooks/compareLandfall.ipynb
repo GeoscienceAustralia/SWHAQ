{
 "cells": [
  {
   "cell_type": "code",
   "execution_count": null,
   "metadata": {},
   "outputs": [],
   "source": [
    "%matplotlib inline\n",
    "import os\n",
    "from os.path import join as pjoin\n",
    "from matplotlib import pyplot as plt\n",
    "from matplotlib import patheffects\n",
    "\n",
    "import numpy as np\n",
    "import pandas as pd\n",
    "import seaborn as sns\n",
    "\n",
    "sns.set_style('ticks')\n",
    "sns.set_context('talk')\n",
    "pe = patheffects.withStroke(foreground=\"white\", linewidth=5)"
   ]
  },
  {
   "cell_type": "code",
   "execution_count": null,
   "metadata": {},
   "outputs": [],
   "source": [
    "obsdf = pd.read_csv(r\"X:\\georisk\\archive\\proj\\2018\\tcha\\backup\\obs_landfall.csv\", index_col=\"gate\")\n",
    "syndf = pd.read_csv(r\"C:\\WorkSpace\\swhaq\\data\\tclv\\landfall\\simulated_landfall_rates.csv\", index_col=\"gate\")"
   ]
  },
  {
   "cell_type": "code",
   "execution_count": null,
   "metadata": {},
   "outputs": [],
   "source": [
    "newdf = obsdf[[\"label\", \"count\", \"prob\", \"rate\"]].join(syndf[['count_nanmean']])\n",
    "newdf['diff'] = newdf['rate'] - newdf['count_nanmean']"
   ]
  },
  {
   "cell_type": "code",
   "execution_count": null,
   "metadata": {},
   "outputs": [],
   "source": [
    "fig, ax = plt.subplots(1, 1, figsize=(12,6))\n",
    "ax.plot(newdf.index, newdf[\"diff\"], path_effects=[pe])\n",
    "ax.set_xticks(np.arange(0,49))\n",
    "ax.set_ylim((-0.05, 0.2))\n",
    "ax.set_ylabel(\"Difference in landfall rate [TCs/yr]\")\n",
    "ax.set_yticks(np.arange(-0.05,0.21,.05))\n",
    "ax.set_xticklabels(newdf['label'], rotation='vertical')\n",
    "ax.set_xlim((31,46))\n",
    "ax.axhline(color='k', linestyle='--',path_effects=[pe])\n",
    "sns.despine()\n",
    "plt.savefig(r\"C:\\WorkSpace\\swhaq\\data\\tclv\\landfall\\simulated_landfall_rates_diff.png\", bbox_inches='tight')\n"
   ]
  },
  {
   "cell_type": "code",
   "execution_count": null,
   "metadata": {},
   "outputs": [],
   "source": [
    "fig, ax = plt.subplots(1, 1, figsize=(12,6))\n",
    "ax.plot(newdf.index, 100*newdf[\"diff\"]/newdf['rate'], path_effects=[pe])\n",
    "ax.set_xticks(np.arange(0,49))\n",
    "ax.set_ylim((-100., 100.))\n",
    "ax.set_ylabel(\"Difference in landfall rate [%]\")\n",
    "#ax.set_yticks(np.arange(-0.05,0.21,.025))\n",
    "ax.set_xticklabels(newdf['label'], rotation='vertical')\n",
    "ax.set_xlim((31,46))\n",
    "ax.axhline(color='k', linestyle='--',path_effects=[pe])\n",
    "sns.despine()\n",
    "#plt.savefig(r\"C:\\WorkSpace\\swhaq\\data\\tclv\\landfall\\simulated_landfall_rates_diff.png\", bbox_inches='tight')"
   ]
  }
 ],
 "metadata": {
  "interpreter": {
   "hash": "415c52bfd547e7f6bd29e852659d7de173e2056e69583b0ad60e2755028bc492"
  },
  "kernelspec": {
   "display_name": "Python 3.7.12 64-bit ('base': conda)",
   "language": "python",
   "name": "python3"
  },
  "language_info": {
   "codemirror_mode": {
    "name": "ipython",
    "version": 3
   },
   "file_extension": ".py",
   "mimetype": "text/x-python",
   "name": "python",
   "nbconvert_exporter": "python",
   "pygments_lexer": "ipython3",
   "version": "3.7.12"
  }
 },
 "nbformat": 4,
 "nbformat_minor": 2
}
