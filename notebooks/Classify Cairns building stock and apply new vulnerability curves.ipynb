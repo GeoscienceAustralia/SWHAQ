{
 "cells": [
  {
   "cell_type": "code",
   "execution_count": null,
   "metadata": {},
   "outputs": [],
   "source": [
    "%matplotlib inline\n",
    "import pandas as pd\n",
    "import numpy as np\n",
    "filename = \"C:/WorkSpace/data/qfes/exposure/Cairns_ResidentialExposure_NEXISV10_M4.csv\"\n",
    "df = pd.read_csv(filename, sep=\",\",header=0, index_col=0, skipinitialspace=True)\n",
    "\n",
    "# Filter out records that do not have an M4 value. \n",
    "df = df[df['M4'].notnull()]\n",
    "df.info()"
   ]
  },
  {
   "cell_type": "code",
   "execution_count": null,
   "metadata": {},
   "outputs": [],
   "source": [
    "def buildingClass(df):\n",
    "    thresholds = [0.0, 0.8278, 0.973, 1.147]\n",
    "    classes = ['C1', 'C2', 'C3', 'C4']\n",
    "    for thres, cls in zip(thresholds, classes):\n",
    "        idx = np.where(df['M4'] >= thres)[0]\n",
    "        df['AS4055_CLASS'][idx] = cls\n",
    "        \n",
    "    return df\n",
    "\n",
    "\n",
    "# Apply a basic AS4055 class, based on the M4 value\n",
    "df = buildingClass(df)\n"
   ]
  },
  {
   "cell_type": "code",
   "execution_count": null,
   "metadata": {},
   "outputs": [],
   "source": [
    "np.sort(df.YEAR_BUILT.unique())"
   ]
  },
  {
   "cell_type": "code",
   "execution_count": null,
   "metadata": {},
   "outputs": [],
   "source": [
    "np.sort(df.WALL_TYPE.unique())"
   ]
  },
  {
   "cell_type": "code",
   "execution_count": null,
   "metadata": {},
   "outputs": [],
   "source": [
    "np.sort(df.ROOF_TYPE.unique())"
   ]
  },
  {
   "cell_type": "code",
   "execution_count": null,
   "metadata": {},
   "outputs": [],
   "source": [
    "# Start with simply assigning the modern building curve to all buildings, based on AS4055 classification.\n",
    "# We'll overwrite specific groups at a later point. This is the quick option, since over 2/3rds of the \n",
    "# building population in the Cairns region is considered \"modern\" construction, so should conform \n",
    "# to AS4055 (i.e. constructed after 1981)\n",
    "\n",
    "classes = ['C1', 'C2', 'C3', 'C4']\n",
    "curves = ['dw317', 'dw318', 'dw319', 'dw320']\n",
    "filter = df['YEAR_BUILT'].map(lambda x: x not in ['1982 - 1996', '1997 - present'])\n",
    "for cls, curve in zip(classes, curves):\n",
    "    idx = np.where(df['AS4055_CLASS'] == cls)[0]\n",
    "    df['WIND_VULNERABILITY_FUNCTION_ID'][idx] = curve\n"
   ]
  },
  {
   "cell_type": "code",
   "execution_count": null,
   "metadata": {},
   "outputs": [],
   "source": [
    "# Then work through the other options. Basically, its just a mapping of age, \n",
    "# roof type and wall type combinations to one of two options. \n",
    "\n",
    "# The data provided by JCU indicates a small proportion of buildings with construction era 1947-1952. The NEXIS YEAR_BUILT\n",
    "# attribute has mapped this era to 1947-1961. This may generate some anomalies in the analysis. Re-mapping the source\n",
    "# construction era to a new grouping in the NEXIS era would likely address this issue\n",
    "\n",
    "# None in the Cairns NEXIS TCRM data (would have been mapped to Tile if any exist)\n",
    "df['WIND_VULNERABILITY_FUNCTION_ID'][df['ROOF_TYPE']=='Concrete'] = 'dw316'\n",
    "df['WIND_VULNERABILITY_FUNCTION_ID'][(df.ROOF_TYPE=='Fibro / asbestos cement sheeting') & \n",
    "                                     (df.YEAR_BUILT.isin(['1947 - 1961', '1962 - 1981']))] = 'dw315'\n",
    "df['WIND_VULNERABILITY_FUNCTION_ID'][(df.ROOF_TYPE=='Fibro / asbestos cement sheeting') &\n",
    "                                     (df.YEAR_BUILT.isin(['1840 - 1890', '1891 - 1913', '1914 - 1946']))] = 'dw316'\n",
    "df['WIND_VULNERABILITY_FUNCTION_ID'][(df.ROOF_TYPE=='Metal Sheeting') & \n",
    "                                     (df.YEAR_BUILT.isin(['1840 - 1890', '1891 - 1913', '1914 - 1946','1947 - 1961', '1962 - 1981']))] = 'dw316'\n",
    "df['WIND_VULNERABILITY_FUNCTION_ID'][(df.ROOF_TYPE=='Metal Sheeting') & \n",
    "                                     (df.YEAR_BUILT.isin(['1840 - 1890', '1891 - 1913', '1914 - 1946'])) & \n",
    "                                     (df.WALL_TYPE.isin(['Timber', 'Fibro / asbestos cement sheeting']))] = 'dw315'\n",
    "df['WIND_VULNERABILITY_FUNCTION_ID'][(df.ROOF_TYPE=='Tiles') & \n",
    "                                     (df.YEAR_BUILT.isin(['1840 - 1890', '1891 - 1913', '1914 - 1946','1947 - 1961', '1962 - 1981']))] = 'dw315'\n",
    "df['WIND_VULNERABILITY_FUNCTION_ID'][(df.ROOF_TYPE=='Tiles') & \n",
    "                                     (df.YEAR_BUILT.isin(['1840 - 1890', '1891 - 1913', '1914 - 1946'])) &\n",
    "                                     (df.WALL_TYPE.isin(['Brick Veneer', 'Double Brick']))] = 'dw316'"
   ]
  },
  {
   "cell_type": "code",
   "execution_count": null,
   "metadata": {},
   "outputs": [],
   "source": [
    "df.head()"
   ]
  },
  {
   "cell_type": "code",
   "execution_count": null,
   "metadata": {},
   "outputs": [],
   "source": [
    "import seaborn as sns\n",
    "sns.countplot(x='AS4055_CLASS', data=df, order=classes)"
   ]
  },
  {
   "cell_type": "code",
   "execution_count": null,
   "metadata": {},
   "outputs": [],
   "source": [
    "df.to_csv('C:/WorkSpace/data/qfes/exposure/Cairns_ResidentialExposure_NEXISV10_M4_updated.csv')"
   ]
  }
 ],
 "metadata": {
  "kernelspec": {
   "display_name": "Python 3",
   "language": "python",
   "name": "python3"
  },
  "language_info": {
   "codemirror_mode": {
    "name": "ipython",
    "version": 3
   },
   "file_extension": ".py",
   "mimetype": "text/x-python",
   "name": "python",
   "nbconvert_exporter": "python",
   "pygments_lexer": "ipython3",
   "version": "3.7.4"
  }
 },
 "nbformat": 4,
 "nbformat_minor": 2
}
