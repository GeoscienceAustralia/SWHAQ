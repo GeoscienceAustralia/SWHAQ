{
 "cells": [
  {
   "cell_type": "code",
   "execution_count": null,
   "id": "congressional-buffalo",
   "metadata": {},
   "outputs": [],
   "source": [
    "%matplotlib inline\n",
    "\n",
    "import os\n",
    "\n",
    "import numpy as np\n",
    "import pandas as pd\n",
    "import geopandas as gpd\n",
    "\n",
    "import scipy.integrate as integrate\n",
    "\n",
    "from matplotlib import pyplot as plt\n",
    "\n",
    "import seaborn as sns"
   ]
  },
  {
   "cell_type": "code",
   "execution_count": null,
   "id": "canadian-subject",
   "metadata": {},
   "outputs": [],
   "source": [
    "ari = np.array([10, 200, 500, 1000, 2000])\n",
    "aep = 1./ari\n",
    "labels = ari.astype(str)"
   ]
  },
  {
   "cell_type": "code",
   "execution_count": null,
   "id": "valued-discretion",
   "metadata": {},
   "outputs": [],
   "source": [
    "basepath = \"C:/WorkSpace/swhaq/data/impact/2020\"\n",
    "events = ['007-09962-2a', '007-09962-2b', '007-09962-2c', '007-09962-2d']\n"
   ]
  },
  {
   "cell_type": "code",
   "execution_count": null,
   "id": "surrounded-transcript",
   "metadata": {},
   "outputs": [],
   "source": [
    "file1 = os.path.join(basepath, events[0], f\"QFES_{events[0]}.shp\")\n",
    "df = gpd.read_file(file1)\n",
    "df.set_index('SA1_MAIN16', inplace=True)"
   ]
  },
  {
   "cell_type": "code",
   "execution_count": null,
   "id": "collectible-leeds",
   "metadata": {},
   "outputs": [],
   "source": [
    "# Assume loss for a 1-in10 year event is zero\n",
    "df['RP10'] = 0.0\n",
    "df['SLR10'] = 0.0\n",
    "df['RP200'] = df.REPVAL*df.slr_mean\n",
    "df['SLR200'] = df.slr_mean\n",
    "df.drop('slr_mean', axis=1, inplace=True)"
   ]
  },
  {
   "cell_type": "code",
   "execution_count": null,
   "id": "three-practice",
   "metadata": {},
   "outputs": [],
   "source": [
    "file2 = os.path.join(basepath, events[1], f\"QFES_{events[1]}.shp\")\n",
    "df2 = gpd.read_file(file2)\n",
    "df2.set_index('SA1_MAIN16', inplace=True)\n",
    "file3 = os.path.join(basepath, events[2], f\"QFES_{events[2]}.shp\")\n",
    "df3 = gpd.read_file(file3)\n",
    "df3.set_index('SA1_MAIN16', inplace=True)\n",
    "file4 = os.path.join(basepath, events[3], f\"QFES_{events[3]}.shp\")\n",
    "df4 = gpd.read_file(file4)\n",
    "df4.set_index('SA1_MAIN16', inplace=True)\n"
   ]
  },
  {
   "cell_type": "code",
   "execution_count": null,
   "id": "affiliated-christopher",
   "metadata": {},
   "outputs": [],
   "source": [
    "df = df.join(df2['slr_mean'])\n",
    "df['RP500'] = df.REPVAL*df.slr_mean\n",
    "df['SLR500'] = df.slr_mean\n",
    "df.drop('slr_mean', axis=1, inplace=True)"
   ]
  },
  {
   "cell_type": "code",
   "execution_count": null,
   "id": "clear-opinion",
   "metadata": {},
   "outputs": [],
   "source": [
    "df = df.join(df3['slr_mean'])\n",
    "df['RP1000'] = df.REPVAL*df.slr_mean\n",
    "df['SLR1000'] = df.slr_mean\n",
    "df.drop('slr_mean', axis=1, inplace=True)"
   ]
  },
  {
   "cell_type": "code",
   "execution_count": null,
   "id": "experienced-sierra",
   "metadata": {},
   "outputs": [],
   "source": [
    "df = df.join(df4['slr_mean'])\n",
    "df['RP2000'] = df.REPVAL*df.slr_mean\n",
    "df['SLR2000'] = df.slr_mean\n",
    "df.drop('slr_mean', axis=1, inplace=True)"
   ]
  },
  {
   "cell_type": "code",
   "execution_count": null,
   "id": "comic-candidate",
   "metadata": {},
   "outputs": [],
   "source": [
    "df[['RP10', 'RP200', 'RP500', 'RP1000', 'RP2000']]"
   ]
  },
  {
   "cell_type": "code",
   "execution_count": null,
   "id": "given-rapid",
   "metadata": {},
   "outputs": [],
   "source": [
    "df[['SLR10', 'SLR200', 'SLR500', 'SLR1000', 'SLR2000']]"
   ]
  },
  {
   "cell_type": "code",
   "execution_count": null,
   "id": "cross-cookie",
   "metadata": {},
   "outputs": [],
   "source": [
    "def func(x, y):\n",
    "    return integrate.simps(np.sort(y), x)"
   ]
  },
  {
   "cell_type": "code",
   "execution_count": null,
   "id": "christian-speech",
   "metadata": {},
   "outputs": [],
   "source": [
    "df['AAL'] = df.apply(lambda x: func(np.flip(aep), np.flip(x[['RP10', 'RP200', 'RP500', 'RP1000', 'RP2000']].values)), axis=1)\n",
    "df['AAD'] = df.apply(lambda x: func(np.flip(aep), np.flip(x[['SLR10', 'SLR200', 'SLR500', 'SLR1000', 'SLR2000']].values)), axis=1)"
   ]
  },
  {
   "cell_type": "code",
   "execution_count": null,
   "id": "qualified-attention",
   "metadata": {},
   "outputs": [],
   "source": [
    "df['AAL'] = df.apply(lambda x: func(aep, x[['RP10', 'RP200', 'RP500', 'RP1000', 'RP2000']].values),axis=1)\n",
    "df['AAD'] = df.apply(lambda x: func(aep, x[['SLR10', 'SLR200', 'SLR500', 'SLR1000', 'SLR2000']].values),axis=1)"
   ]
  },
  {
   "cell_type": "code",
   "execution_count": null,
   "id": "rolled-damages",
   "metadata": {},
   "outputs": [],
   "source": [
    "df.loc[df['AAD'].idxmax()]"
   ]
  },
  {
   "cell_type": "code",
   "execution_count": null,
   "id": "cutting-lexington",
   "metadata": {},
   "outputs": [],
   "source": [
    "sns.displot(df['AAD'])"
   ]
  },
  {
   "cell_type": "code",
   "execution_count": null,
   "id": "identical-elder",
   "metadata": {},
   "outputs": [],
   "source": [
    "df.to_file(os.path.join(basepath, \"007-09962-AAL.shp\"))"
   ]
  },
  {
   "cell_type": "code",
   "execution_count": null,
   "id": "aquatic-teach",
   "metadata": {},
   "outputs": [],
   "source": [
    "fig, ax = plt.subplots(1, 1, figsize=(8, 8))\n",
    "\n",
    "df.plot(column='AAL', scheme='percentiles', ax=ax, legend=True)"
   ]
  },
  {
   "cell_type": "code",
   "execution_count": null,
   "id": "liable-jacket",
   "metadata": {},
   "outputs": [],
   "source": [
    "x = np.sort(df.loc['31802147505'][['RP10', 'RP200', 'RP500', 'RP1000', 'RP2000']].values)\n",
    "plt.semilogy(x, aep)\n",
    "plt.xlabel(f\"Loss [million $]\")\n",
    "plt.ylabel(\"Exceedance probability\")\n",
    "None"
   ]
  },
  {
   "cell_type": "code",
   "execution_count": null,
   "id": "designed-senator",
   "metadata": {},
   "outputs": [],
   "source": [
    "x = df.loc['31802147505'][['SLR10', 'SLR200', 'SLR500', 'SLR1000', 'SLR2000']].values\n",
    "plt.semilogy(np.sort(x),aep)\n",
    "plt.xlabel(f\"Loss ratio\")\n",
    "plt.ylabel(\"Exceedance probability\")\n",
    "None"
   ]
  },
  {
   "cell_type": "code",
   "execution_count": null,
   "id": "minor-apartment",
   "metadata": {},
   "outputs": [],
   "source": []
  }
 ],
 "metadata": {
  "kernelspec": {
   "display_name": "Python 3",
   "language": "python",
   "name": "python3"
  },
  "language_info": {
   "codemirror_mode": {
    "name": "ipython",
    "version": 3
   },
   "file_extension": ".py",
   "mimetype": "text/x-python",
   "name": "python",
   "nbconvert_exporter": "python",
   "pygments_lexer": "ipython3",
   "version": "3.7.6"
  }
 },
 "nbformat": 4,
 "nbformat_minor": 5
}
