{
 "cells": [
  {
   "cell_type": "code",
   "execution_count": null,
   "metadata": {},
   "outputs": [],
   "source": [
    "%matplotlib inline\n",
    "\n",
    "import pandas as pd\n",
    "import numpy as np\n",
    "import matplotlib.pyplot as plt\n",
    "from matplotlib import patheffects\n",
    "\n",
    "import seaborn as sns\n",
    "sns.set_context('talk')\n",
    "sns.set_style('whitegrid')\n",
    "pe = patheffects.withStroke(foreground=\"white\", linewidth=5)"
   ]
  },
  {
   "cell_type": "code",
   "execution_count": null,
   "metadata": {},
   "outputs": [],
   "source": [
    "ari = np.array([2, 5, 10, 20, 50, 100, 500, 1000, 10000])\n",
    "aep = 1. - np.exp(-1./ari)\n",
    "loss = np.array([0, 0.0002, 0.0005, 0.01, 0.05, 0.075, 0.1, 0.2, 0.3, 0.6,])\n",
    "avgloss = np.array([(loss[i] + loss[i+1])/2 for i in range(len(loss)-1)])\n",
    "sum(loss[1:]*aep)"
   ]
  },
  {
   "cell_type": "code",
   "execution_count": null,
   "metadata": {},
   "outputs": [],
   "source": [
    "fig, ax = plt.subplots(1, 1, figsize=(12, 8))\n",
    "ax.stairs(aep, [*avgloss, loss.max()], color='k', fill=True, alpha=0.25)\n",
    "ax.stairs(aep, [*avgloss, loss.max()], color='k')\n",
    "\n",
    "ax.vlines(avgloss, 0, aep, color='k')\n",
    "ax.plot(loss[1:], aep, path_effects=[pe], )\n",
    "\n",
    "#ax.fill_between(loss[1:], aep, alpha=0.25)\n",
    "ax.set_yscale('log')\n",
    "ax.grid(which='major', linestyle='-')\n",
    "ax.grid(which='minor', linestyle='--', linewidth=0.5)\n",
    "ax.set_ylabel(\"Annual exceedance probability\")\n",
    "ax.set_xlabel(\"Structural Loss Ratio\")\n",
    "ax.text(0.9, 0.9, \"The AAL is the area beneath the blue line,\\n and can be approximated by the area\\nof the black rectangles\", ha='right', va='top', transform=ax.transAxes, wrap=True)\n",
    "plt.savefig(\"C:/Workspace/swhaq/figures/AAL_demo.png\")"
   ]
  },
  {
   "cell_type": "code",
   "execution_count": null,
   "metadata": {},
   "outputs": [],
   "source": [
    "with plt.xkcd(scale=0.5):\n",
    "    fig, ax = plt.subplots(1, 1, figsize=(12, 8))\n",
    "    ax.stairs(aep, [*avgloss, loss.max()], color='k', fill=True, alpha=0.25)\n",
    "    ax.stairs(aep, [*avgloss, loss.max()], color='k')\n",
    "\n",
    "    ax.vlines(avgloss, 0, aep, color='k')\n",
    "    ax.plot(loss[1:], aep, path_effects=[pe], )\n",
    "\n",
    "    #ax.fill_between(loss[1:], aep, alpha=0.25)\n",
    "    ax.set_yscale('log')\n",
    "    ax.grid(which='major', linestyle='-')\n",
    "    ax.grid(which='minor', linestyle='--', linewidth=0.5)\n",
    "    ax.set_ylabel(\"Annual exceedance probability\")\n",
    "    ax.set_xlabel(\"Structural Loss Ratio\")\n",
    "    ax.text(0.9, 0.9, \"The AAL is the area beneath the blue line,\\n and can be approximated by the area\\nof the black rectangles\", ha='right', va='top', transform=ax.transAxes, wrap=True)\n",
    "    plt.savefig(\"C:/Workspace/swhaq/figures/AAL_demo_xkcd.png\")"
   ]
  }
 ],
 "metadata": {
  "interpreter": {
   "hash": "568efdb201941bf609d8445e09ed49ceda2e423d5770313e50fd247e0dd3dd74"
  },
  "kernelspec": {
   "display_name": "Python 3.9.7 64-bit ('base': conda)",
   "language": "python",
   "name": "python3"
  },
  "language_info": {
   "codemirror_mode": {
    "name": "ipython",
    "version": 3
   },
   "file_extension": ".py",
   "mimetype": "text/x-python",
   "name": "python",
   "nbconvert_exporter": "python",
   "pygments_lexer": "ipython3",
   "version": "3.9.7"
  }
 },
 "nbformat": 4,
 "nbformat_minor": 2
}
