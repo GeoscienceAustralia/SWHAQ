{
 "cells": [
  {
   "cell_type": "markdown",
   "metadata": {},
   "source": [
    "# Modify the intensity of TC scenarios\n",
    "\n"
   ]
  },
  {
   "cell_type": "code",
   "execution_count": null,
   "metadata": {},
   "outputs": [],
   "source": [
    "%matplotlib inline\n",
    "\n",
    "import os\n",
    "from os.path import join as pjoin\n",
    "import matplotlib.pyplot as plt\n",
    "import matplotlib.cm as cm\n",
    "from matplotlib.collections import LineCollection\n",
    "from matplotlib.colors import BoundaryNorm, ListedColormap\n",
    "from matplotlib.lines import Line2D\n",
    "\n",
    "import cartopy.crs as ccrs\n",
    "import cartopy.feature as feature\n",
    "import numpy as np\n",
    "from Utilities.track import ncReadTrackData, ncSaveTracks\n",
    "from Utilities.loadData import maxWindSpeed\n",
    "\n",
    "import pandas as pd\n",
    "from datetime import datetime\n",
    "\n",
    "import seaborn as sns\n",
    "sns.set_context('talk')"
   ]
  },
  {
   "cell_type": "code",
   "execution_count": null,
   "metadata": {},
   "outputs": [],
   "source": [
    "def makeSegments(xx, yy):\n",
    "    points = np.array([xx, yy]).T.reshape(-1, 1, 2)\n",
    "    segments = np.concatenate([points[:-1], points[1:]], axis=1)\n",
    "\n",
    "    return segments\n",
    "\n",
    "def colorline(ax, xdata, ydata, zdata=None, alpha=0.9):\n",
    "    \"\"\"\n",
    "    Given a collection of x,y points and optionally magnitude\n",
    "    values for each point, plot the data as a collection of\n",
    "    coloured line segments. Line segments are added to the given \n",
    "    :class:`matplotlib.axes` instance.\n",
    "    \n",
    "    .. note:: Currently, intervals are hard-coded\n",
    "              for plotting the central pressure of TCs. \n",
    "              [800, 920, 935, 950, 970, 985, 1050]\n",
    "    \n",
    "    :params ax: :class:`matplotlib.axes` instance on which to plot the line segments\n",
    "    :param xdata: array of x-coordinates of points to plot\n",
    "    :param ydata: array of y-coordinates of points to plot\n",
    "    :param zdata: (optional) array of magnitude values of the points to inform colouring\n",
    "    :param alpha: transparency of the lines (default=0.9)\n",
    "    \n",
    "    \"\"\"\n",
    "    colours=['0.75', '#0FABF6', '#0000FF', \n",
    "             '#00FF00', '#FF8100', '#ff0000']\n",
    "    intervals = [0, 17.5, 24.5, 32.5, 44.2, 55.5, 1000]\n",
    "    intervals = [0, 25, 35, 46, 62, 77, 200]\n",
    "    #intervals = [800, 920, 935, 950, 970, 985, 1050]\n",
    "    segments = makeSegments(xdata, ydata)\n",
    "    cmap = ListedColormap(colours)\n",
    "    norm = BoundaryNorm(intervals, cmap.N)\n",
    "    lc = LineCollection(segments, array=zdata, cmap=cmap,\n",
    "                        norm=norm, alpha=alpha)\n",
    "\n",
    "    labels = ['No data', 'Category 1', 'Category 2',\n",
    "              'Category 3', 'Category 4', 'Category 5']\n",
    "    handles = []\n",
    "    for c, l in zip(cmap.colors, labels):\n",
    "        handles.append(Line2D([0], [0], color=c, label=l))\n",
    "\n",
    "    ax.add_collection(lc)\n",
    "    ax.legend(handles, labels, loc=2, frameon=True, prop={'size': 10})\n",
    "    return ax"
   ]
  },
  {
   "cell_type": "code",
   "execution_count": null,
   "metadata": {},
   "outputs": [],
   "source": [
    "dataPath = r\"\\\\prod.lan\\active\\ops\\community_safety\\georisk\\HaRIA_B_Wind\\projects\\qfes_swha\\data\\derived\\tracks\\seq\"\n",
    "source_track = pjoin(dataPath, 'track.004-08495.nc')\n",
    "tracks = ncReadTrackData(source_track)\n",
    "t = pd.DataFrame.from_records(tracks[0].data)\n",
    "t.Datetime = t.Datetime.apply(lambda x: datetime.strptime(x.strftime(\"%Y-%m-%d %H:%M:%S\"), \"%Y-%m-%d %H:%M:%S\"))\n",
    "dtname = 'Datetime'\n",
    "idx = t.CycloneNumber.values\n",
    "cp = t.CentralPressure.values\n",
    "\n",
    "varidx = np.ones(len(idx))\n",
    "varidx[1:][idx[1:]==idx[:-1]] = 0\n",
    "dt = (t[dtname] - t[dtname].shift()).fillna(pd.Timedelta(seconds=0)).apply(lambda x: x / np.timedelta64(1,'m')).astype('int64') % (24*60) / 60\n",
    "\n",
    "vmax = maxWindSpeed(varidx, dt.values, t.Longitude.values, t.Latitude.values,\n",
    "                              t.CentralPressure.values, t.EnvPressure.values, gustfactor=1.223)"
   ]
  },
  {
   "cell_type": "code",
   "execution_count": null,
   "metadata": {},
   "outputs": [],
   "source": [
    "t.to_csv(pjoin(dataPath, 'track.004-08495.csv'))"
   ]
  },
  {
   "cell_type": "markdown",
   "metadata": {},
   "source": [
    "Make modifications to the track data in Excel or similar to make the process easier"
   ]
  },
  {
   "cell_type": "code",
   "execution_count": null,
   "metadata": {},
   "outputs": [],
   "source": [
    "fig, ax = plt.subplots(1,1, figsize=(12, 6))\n",
    "ax.plot(t.Datetime, vmax, color='k', label=\"Base scenario\")\n",
    "\n",
    "plt.xticks(rotation='vertical')\n",
    "#[0, 25, 35, 46, 62, 77, 200]\n",
    "ax.axhline(25, color='#0FABF6')\n",
    "ax.axhline(35, color='#0000FF')\n",
    "ax.axhline(46, color='#00FF00')\n",
    "ax.axhline(62, color='#FF8100')\n",
    "ax.axhline(77, color='#FF0000')\n",
    "ax.grid(True)\n",
    "ax.set_ylabel(\"Wind speed (m/s)\")\n",
    "ax.set_xlabel(\"Time\")\n",
    "ax.legend(loc='center left', bbox_to_anchor=(1.05, 0.5))\n",
    "#plt.savefig(r\"\\\\prod.lan\\active\\ops\\community_safety\\georisk\\HaRIA_B_Wind\\projects\\powerlink\\data\\derived\\tracks\\007-02914_scaling.png\", bbox_inches=\"tight\")\n",
    "None"
   ]
  },
  {
   "cell_type": "code",
   "execution_count": null,
   "metadata": {},
   "outputs": [],
   "source": [
    "source_track_mod = pjoin(dataPath, 'track.004-08495b.csv')\n",
    "tm = pd.read_csv(source_track_mod, parse_dates=[2], infer_datetime_format=True)\n",
    "#tm['Datetime'] = tm.Datetime.apply(lambda x: datetime.strptime(x, \"%Y-%m-%d %H:%M\"))\n",
    "#tm['Datetime'] = tm.Datetime.dt.to_pydatetime()\n",
    "\n",
    "#tm = pd.DataFrame.from_records(tracks_mod[0].data)"
   ]
  },
  {
   "cell_type": "code",
   "execution_count": null,
   "metadata": {},
   "outputs": [],
   "source": [
    "newtm = tm.astype({'Datetime':\"O\"}).drop(\"Unnamed: 0\", axis=1)"
   ]
  },
  {
   "cell_type": "code",
   "execution_count": null,
   "metadata": {},
   "outputs": [],
   "source": [
    "newtm"
   ]
  },
  {
   "cell_type": "code",
   "execution_count": null,
   "metadata": {},
   "outputs": [],
   "source": [
    "newdtypes = tm.dtypes.to_dict()"
   ]
  },
  {
   "cell_type": "code",
   "execution_count": null,
   "metadata": {},
   "outputs": [],
   "source": [
    "mydtypes = [\n",
    " ('CycloneNumber', 'int64'),\n",
    " ('Datetime', datetime),\n",
    " ('TimeElapsed', 'int64'),\n",
    " ('Longitude', 'float64'),\n",
    " ('Latitude', 'float64'),\n",
    " ('Speed', 'float64'),\n",
    " ('Bearing', 'float64'),\n",
    " ('CentralPressure', 'float64'),\n",
    " ('EnvPressure', 'float64'),\n",
    " ('rMax', 'float64')]"
   ]
  },
  {
   "cell_type": "code",
   "execution_count": null,
   "metadata": {},
   "outputs": [],
   "source": [
    "newdtypes['Datetime'] = np.dtype('O')"
   ]
  },
  {
   "cell_type": "code",
   "execution_count": null,
   "metadata": {},
   "outputs": [],
   "source": [
    "tm['Datetime'] = tm.Datetime.dt.to_pydatetime()\n",
    "#apply(lambda x: pd.to_datetime(x))"
   ]
  },
  {
   "cell_type": "code",
   "execution_count": null,
   "metadata": {},
   "outputs": [],
   "source": [
    "type(tm.Datetime[0])"
   ]
  },
  {
   "cell_type": "code",
   "execution_count": null,
   "metadata": {},
   "outputs": [],
   "source": [
    "def scalePressureDeficit(pc, poci, scale=0.8):\n",
    "    scaleddp = scale * (poci - pc)\n",
    "    return poci - scaleddp"
   ]
  },
  {
   "cell_type": "code",
   "execution_count": null,
   "metadata": {},
   "outputs": [],
   "source": [
    "varidxm = np.zeros(len(tm.Datetime))\n",
    "varidx[0] = 1\n",
    "dtm = (tm[dtname] - tm[dtname].shift()).fillna(pd.Timedelta(seconds=0)).apply(lambda x: x / np.timedelta64(1,'m')).astype('int64') % (24*60) / 60\n",
    "\n",
    "vmaxm = maxWindSpeed(varidxm, dtm.values, tm.Longitude.values, tm.Latitude.values,\n",
    "                              tm.CentralPressure.values, tm.EnvPressure.values, gustfactor=1.223)\n"
   ]
  },
  {
   "cell_type": "code",
   "execution_count": null,
   "metadata": {},
   "outputs": [],
   "source": [
    "fig = plt.figure(figsize=(8, 8))\n",
    "ax = plt.axes(projection=ccrs.PlateCarree())\n",
    "ax.coastlines(resolution='10m', color='black', linewidth=1)\n",
    "ax.add_feature(feature.BORDERS)\n",
    "gl = ax.gridlines(linestyle=\":\", draw_labels=True)\n",
    "ax.add_feature(feature.LAND, zorder=0)\n",
    "ax.set_xlim((147.5, 157.5))\n",
    "ax.set_ylim((-32, -20))\n",
    "colorline(ax, t.Longitude, t.Latitude, vmaxm)\n",
    "#None"
   ]
  },
  {
   "cell_type": "code",
   "execution_count": null,
   "metadata": {},
   "outputs": [],
   "source": [
    "fig, ax = plt.subplots(1,1, figsize=(12, 6))\n",
    "ax.plot(t.Datetime, vmax, color='k', label=\"Base scenario\")\n",
    "\n",
    "ax.plot(tm.Datetime, vmaxm, color='gray', label=r\"1.7 $\\Delta p$\")\n",
    "\n",
    "plt.xticks(rotation='vertical')\n",
    "#[0, 25, 35, 46, 62, 77, 200]\n",
    "ax.axhline(25, color='#0FABF6')\n",
    "ax.axhline(35, color='#0000FF')\n",
    "ax.axhline(46, color='#00FF00')\n",
    "ax.axhline(62, color='#FF8100')\n",
    "ax.axhline(77, color='#FF0000')\n",
    "ax.grid(True)\n",
    "ax.set_ylabel(\"Wind speed (m/s)\")\n",
    "ax.set_xlabel(\"Time\")\n",
    "ax.legend(loc='center left', bbox_to_anchor=(1.05, 0.5))\n",
    "#plt.savefig(r\"\\\\prod.lan\\active\\ops\\community_safety\\georisk\\HaRIA_B_Wind\\projects\\powerlink\\data\\derived\\tracks\\007-02914_scaling.png\", bbox_inches=\"tight\")\n",
    "None"
   ]
  },
  {
   "cell_type": "code",
   "execution_count": null,
   "metadata": {},
   "outputs": [],
   "source": [
    "tracks[0].data = tm.drop(\"Unnamed: 0\", axis=1).to_records(index=False)\n",
    "tracks[0].data.dtypes = mydtypes\n",
    "\n",
    "#nndt = [datetime.utcfromtimestamp(tracks[0].Datetime.astype(datetime)[i]/1e9) for i in range(len(tracks[0].Datetime))]\n",
    "\n",
    "newtrackdata = np.recarray(tracks[0].data.shape, dtype=mydtypes)"
   ]
  },
  {
   "cell_type": "code",
   "execution_count": null,
   "metadata": {},
   "outputs": [],
   "source": [
    "newtrackdata['Datetime'] = tm['Datetime']\n",
    "\n",
    "for col in ['CycloneNumber', 'TimeElapsed', 'Longitude',\n",
    "       'Latitude', 'Speed', 'Bearing', 'CentralPressure', 'EnvPressure',\n",
    "       'rMax']:\n",
    "    newtrackdata[col] = tracks[0].data[col]\n",
    "\n",
    "tracks[0].data = newtrackdata"
   ]
  },
  {
   "cell_type": "code",
   "execution_count": null,
   "metadata": {},
   "outputs": [],
   "source": [
    "datetime.strptime(datetime.strftime(tracks[0].Datetime[0], \"%Y-%m-%d %H:%M\"), \"%Y-%m-%d %H:%M\")"
   ]
  },
  {
   "cell_type": "code",
   "execution_count": null,
   "metadata": {},
   "outputs": [],
   "source": [
    "tm['Datetime'] = tm.Datetime.apply(lambda x: datetime.strptime(datetime.strftime(x, \"%Y-%m-%d %H:%M\"), \"%Y-%m-%d %H:%M\"))"
   ]
  },
  {
   "cell_type": "code",
   "execution_count": null,
   "metadata": {},
   "outputs": [],
   "source": [
    "tm.Datetime"
   ]
  },
  {
   "cell_type": "code",
   "execution_count": null,
   "metadata": {},
   "outputs": [],
   "source": [
    "scenarioTrackFile = pjoin(dataPath, 'track.004-08495b.nc')\n",
    "atts = {\"history\":\"Linear decline in intensity from base scenario\",\n",
    "        \"title\":\"Synthetic tropical cyclone track scenario 004-08495b\"}\n",
    "ncSaveTracks(scenarioTrackFile, tracks, calendar='julian', attributes=atts)"
   ]
  }
 ],
 "metadata": {
  "kernelspec": {
   "display_name": "Python 3",
   "language": "python",
   "name": "python3"
  },
  "language_info": {
   "codemirror_mode": {
    "name": "ipython",
    "version": 3
   },
   "file_extension": ".py",
   "mimetype": "text/x-python",
   "name": "python",
   "nbconvert_exporter": "python",
   "pygments_lexer": "ipython3",
   "version": "3.7.12"
  }
 },
 "nbformat": 4,
 "nbformat_minor": 4
}
