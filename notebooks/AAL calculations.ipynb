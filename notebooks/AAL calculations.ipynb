{
 "cells": [
  {
   "cell_type": "code",
   "execution_count": null,
   "metadata": {},
   "outputs": [],
   "source": [
    "%matplotlib notebook\n",
    "import os\n",
    "import pandas as pd\n",
    "import numpy as np\n",
    "from scipy.integrate import simpson\n",
    "from matplotlib import pyplot as plt\n",
    "import seaborn as sns\n",
    "sns.set_style('whitegrid')\n",
    "sns.set_context('talk')"
   ]
  },
  {
   "cell_type": "code",
   "execution_count": null,
   "metadata": {},
   "outputs": [],
   "source": [
    "LOSSFIELD = \"structural_mean\"\n",
    "BASEPATH = \"C:/workspace/swhaq/data/risk\"\n",
    "ARIS = [1, 2, 3, 4, 5, 10, 15, 20, 30, 35, 40, 45, 50, 75, 100, 150, 200, 250, 300, 350, 400, 450, 500, 1000, 2000, 2500, 5000, 10000]\n",
    "lossdf = pd.DataFrame(columns=[\"SA1_CODE\", *ARIS])"
   ]
  },
  {
   "cell_type": "code",
   "execution_count": null,
   "metadata": {},
   "outputs": [],
   "source": [
    "def probability(ari):\n",
    "    \"\"\"Return an annual probability given a return period\"\"\"\n",
    "    aep = 1.0 - np.exp(-1.0/ari)\n",
    "    return aep\n"
   ]
  },
  {
   "cell_type": "code",
   "execution_count": null,
   "metadata": {},
   "outputs": [],
   "source": [
    "firstdf = pd.read_csv(os.path.join(BASEPATH, f\"windspeed_2_yr_agg.csv\"))\n",
    "lossdf['SA1_CODE'] = firstdf['SA1_CODE_']\n",
    "lossdf.set_index('SA1_CODE', inplace=True)"
   ]
  },
  {
   "cell_type": "code",
   "execution_count": null,
   "metadata": {},
   "outputs": [],
   "source": [
    "for ARI in ARIS:\n",
    "    if ARI == 1: continue\n",
    "    tmpdf = pd.read_csv(os.path.join(BASEPATH, f\"windspeed_{ARI:d}_yr_agg.csv\"))\n",
    "    tmpdf.set_index('SA1_CODE_', inplace=True)\n",
    "    lossdf = lossdf.join(tmpdf[LOSSFIELD])\n",
    "    lossdf[ARI] = lossdf[LOSSFIELD]\n",
    "    lossdf.drop(LOSSFIELD, axis=1, inplace=True)\n",
    "lossdf[1] = 0"
   ]
  },
  {
   "cell_type": "code",
   "execution_count": null,
   "metadata": {},
   "outputs": [],
   "source": [
    "aeps = probability(np.array(lossdf.columns.to_list()))\n",
    "lossdf['AAL'] = lossdf.apply(simpson, axis=1, x=-1*aeps)"
   ]
  },
  {
   "cell_type": "code",
   "execution_count": null,
   "metadata": {},
   "outputs": [],
   "source": [
    "fig, ax = plt.subplots(figsize=(12, 8))\n",
    "sns.histplot(lossdf['AAL'], ax=ax)\n",
    "ax.set_yscale('log')\n",
    "plt.savefig(os.path.join(BASEPATH, f\"AAL_{LOSSFIELD}.png\"))"
   ]
  },
  {
   "cell_type": "code",
   "execution_count": null,
   "metadata": {},
   "outputs": [],
   "source": [
    "lossdf.to_csv(os.path.join(BASEPATH, f\"AAL_{LOSSFIELD}.csv\"))"
   ]
  }
 ],
 "metadata": {
  "interpreter": {
   "hash": "415c52bfd547e7f6bd29e852659d7de173e2056e69583b0ad60e2755028bc492"
  },
  "kernelspec": {
   "display_name": "Python 3.7.12 64-bit ('base': conda)",
   "language": "python",
   "name": "python3"
  },
  "language_info": {
   "codemirror_mode": {
    "name": "ipython",
    "version": 3
   },
   "file_extension": ".py",
   "mimetype": "text/x-python",
   "name": "python",
   "nbconvert_exporter": "python",
   "pygments_lexer": "ipython3",
   "version": "3.7.12"
  }
 },
 "nbformat": 4,
 "nbformat_minor": 2
}
