{
 "cells": [
  {
   "cell_type": "code",
   "execution_count": null,
   "metadata": {},
   "outputs": [],
   "source": [
    "%matplotlib inline\n",
    "import os\n",
    "import numpy as np\n",
    "import pandas as pd\n",
    "import matplotlib.pyplot as plt\n",
    "import matplotlib.ticker as ticker\n",
    "import seaborn as sns\n",
    "sns.set_style('whitegrid')\n",
    "sns.set_context(\"talk\")"
   ]
  },
  {
   "cell_type": "code",
   "execution_count": null,
   "metadata": {},
   "outputs": [],
   "source": [
    "inputPath = r\"X:\\georisk\\HaRIA_B_Wind\\projects\\qfes_swha\\data\\DRAFT DATA STRUCTURES\\1. Work Unit Assessment\\SOUTH EAST QUEENSLAND\\Risk\\AAL\"\n",
    "retrofitdf = pd.read_csv(os.path.join(inputPath, \"retro_prob_v2\", \"LGA_CODE_AAL.csv\")).set_index('LGA_CODE')\n",
    "retrofitv1df = pd.read_csv(os.path.join(inputPath, \"retro_prob\", \"LGA_CODE_AAL.csv\")).set_index('LGA_CODE')\n",
    "baselinedf = pd.read_csv(os.path.join(inputPath, \"pp_baseline\", \"structural_mean_LGA.csv\")).set_index('LGA_CODE')"
   ]
  },
  {
   "cell_type": "code",
   "execution_count": null,
   "metadata": {},
   "outputs": [],
   "source": [
    "retrofitdf.drop('Unnamed: 0', inplace=True, axis=1)\n",
    "retrofitv1df.drop('Unnamed: 0', inplace=True, axis=1)"
   ]
  },
  {
   "cell_type": "code",
   "execution_count": null,
   "metadata": {},
   "outputs": [],
   "source": [
    "baselineAAL = baselinedf['AAL'].loc[retrofitdf.index.values]"
   ]
  },
  {
   "cell_type": "code",
   "execution_count": null,
   "metadata": {},
   "outputs": [],
   "source": [
    "fig, ax = plt.subplots(1, 1, figsize=(12, 6))\n",
    "\n",
    "ax.plot(np.arange(len(retrofitdf))+0.1, retrofitv1df['0.5'], marker=\"o\", linestyle='', color='gray')\n",
    "ax.vlines(np.arange(len(retrofitdf))+0.1, retrofitv1df['0.05'], retrofitv1df['0.95'], color='gray', label=\"Option 1\")\n",
    "ax.plot(range(len(retrofitdf)), retrofitdf['0.5'], marker=\"o\", linestyle='')\n",
    "ax.vlines(range(len(retrofitdf)), retrofitdf['0.05'], retrofitdf['0.95'], label=\"Option 2\")\n",
    "ax.scatter(range(len(baselineAAL)), baselineAAL, color='red', marker='x', label=\"Baseline\", zorder=10)\n",
    "l = ax.get_xticklabels()\n",
    "ax.set_xticks(range(len(baselineAAL)), labels=retrofitdf['LGA_NAME'].apply(lambda x: x[:-4]))\n",
    "yticks = ticker.FuncFormatter(lambda x, pos: '{0:g}'.format(x*1e3))\n",
    "ax.yaxis.set_major_formatter(yticks)\n",
    "ax.grid(True)\n",
    "ax.set_ylim((0, 0.0025))\n",
    "ax.set_ylabel(r\"AAL [x$10^{-3}$]\")\n",
    "ax.legend()"
   ]
  },
  {
   "cell_type": "code",
   "execution_count": null,
   "metadata": {},
   "outputs": [],
   "source": [
    "retrofitdf['LGA_NAME'].apply(lambda x: x[:-4])"
   ]
  },
  {
   "cell_type": "code",
   "execution_count": null,
   "metadata": {},
   "outputs": [],
   "source": []
  }
 ],
 "metadata": {
  "kernelspec": {
   "display_name": "Python 3.9.12 ('process')",
   "language": "python",
   "name": "python3"
  },
  "language_info": {
   "codemirror_mode": {
    "name": "ipython",
    "version": 3
   },
   "file_extension": ".py",
   "mimetype": "text/x-python",
   "name": "python",
   "nbconvert_exporter": "python",
   "pygments_lexer": "ipython3",
   "version": "3.9.18"
  },
  "orig_nbformat": 4,
  "vscode": {
   "interpreter": {
    "hash": "51f0b0e1912627e3efa48602cb2acd529b282a7bd044c027726a3da5d4d6d60a"
   }
  }
 },
 "nbformat": 4,
 "nbformat_minor": 2
}
