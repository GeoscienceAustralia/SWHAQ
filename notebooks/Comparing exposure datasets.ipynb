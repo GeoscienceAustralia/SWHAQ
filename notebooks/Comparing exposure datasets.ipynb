{
 "cells": [
  {
   "cell_type": "code",
   "execution_count": null,
   "metadata": {},
   "outputs": [],
   "source": [
    "%matplotlib inline\n",
    "import os\n",
    "from os.path import join as pjoin\n",
    "import matplotlib.pyplot as plt\n",
    "import pandas as pd\n",
    "import seaborn as sns\n"
   ]
  },
  {
   "cell_type": "code",
   "execution_count": null,
   "metadata": {},
   "outputs": [],
   "source": [
    "dfv10 = pd.read_csv(\"C:\\WorkSpace\\swhaq\\data\\exposure\\GoldCoast_ResidentialExposure_NEXISV10_M4_updated.csv\", index_col=\"LID\")\n",
    "dfv11 = pd.read_csv(\"C:\\WorkSpace\\swhaq\\data\\exposure\\GoldCoast_ResidentialExposure_NEXIS_2020_M4_updated.csv\", index_col=\"LID\")"
   ]
  },
  {
   "cell_type": "code",
   "execution_count": null,
   "metadata": {},
   "outputs": [],
   "source": [
    "dfv10.head()"
   ]
  },
  {
   "cell_type": "code",
   "execution_count": null,
   "metadata": {},
   "outputs": [],
   "source": [
    "dfv11.head()"
   ]
  },
  {
   "cell_type": "code",
   "execution_count": null,
   "metadata": {},
   "outputs": [],
   "source": [
    "df = dfv10[[ 'MB_CODE', \"WIND_VULNERABILITY_FUNCTION_ID\", \"M4\"]].join(dfv11[[ 'MB_CODE', \"WIND_VULNERABILITY_FUNCTION_ID\", \"M4\"]], on=\"LID\", how='left',lsuffix='v10', rsuffix='v11').dropna(axis=0,subset=['MB_CODEv11'])"
   ]
  },
  {
   "cell_type": "code",
   "execution_count": null,
   "metadata": {},
   "outputs": [],
   "source": [
    "df['WVFv10'] = df['WIND_VULNERABILITY_FUNCTION_IDv10'].apply(lambda L: int(L.replace('dw', '')))\n",
    "df['WVFv11'] = df['WIND_VULNERABILITY_FUNCTION_IDv11'].apply(lambda L: int(L.replace('dw', '')))\n"
   ]
  },
  {
   "cell_type": "code",
   "execution_count": null,
   "metadata": {},
   "outputs": [],
   "source": [
    "plt.scatter(x=df.WVFv10, y=df.WVFv11)"
   ]
  },
  {
   "cell_type": "code",
   "execution_count": null,
   "metadata": {},
   "outputs": [],
   "source": [
    "plt.scatter(x=df.M4v10, y=df.M4v11)"
   ]
  },
  {
   "cell_type": "code",
   "execution_count": null,
   "metadata": {},
   "outputs": [],
   "source": []
  }
 ],
 "metadata": {
  "kernelspec": {
   "display_name": "Python 3",
   "language": "python",
   "name": "python3"
  },
  "language_info": {
   "codemirror_mode": {
    "name": "ipython",
    "version": 3
   },
   "file_extension": ".py",
   "mimetype": "text/x-python",
   "name": "python",
   "nbconvert_exporter": "python",
   "pygments_lexer": "ipython3",
   "version": "3.7.6"
  }
 },
 "nbformat": 4,
 "nbformat_minor": 4
}
