{
 "cells": [
  {
   "cell_type": "code",
   "execution_count": 2,
   "metadata": {},
   "outputs": [],
   "source": [
    "import os\n",
    "import pandas as pd\n"
   ]
  },
  {
   "cell_type": "code",
   "execution_count": 45,
   "metadata": {},
   "outputs": [],
   "source": [
    "DESTPATH=r\"X:\\georisk\\HaRIA_B_Wind\\projects\\SurgeImpact\\2. DATA\\1. Work Unit Assessment\\Exposure\"\n",
    "SRCPATH=r\"X:\\georisk\\HaRIA_B_Wind\\data\\raw\\exposure\\2024\\TCRM\\QLD_TILES_Residential_Wind_Exposure_202402v15.9_TCRM.csv\"\n",
    "STRYPATH=r\"X:\\georisk\\HaRIA_B_Wind\\projects\\SurgeImpact\\2. DATA\\1. Work Unit Assessment\\Exposure\\QLD_building_TableToExcel.csv\""
   ]
  },
  {
   "cell_type": "code",
   "execution_count": 46,
   "metadata": {},
   "outputs": [
    {
     "name": "stderr",
     "output_type": "stream",
     "text": [
      "C:\\Users\\u12161\\AppData\\Local\\Temp\\ipykernel_844\\3402426880.py:1: DtypeWarning: Columns (30) have mixed types. Specify dtype option on import or set low_memory=False.\n",
      "  srcdf = pd.read_csv(SRCPATH)\n"
     ]
    }
   ],
   "source": [
    "srcdf = pd.read_csv(SRCPATH)\n",
    "strydf = pd.read_csv(STRYPATH)"
   ]
  },
  {
   "cell_type": "code",
   "execution_count": 47,
   "metadata": {},
   "outputs": [],
   "source": [
    "srcdf = srcdf.loc[srcdf['LGA_CODE'].isin([32080, 37600])]"
   ]
  },
  {
   "cell_type": "code",
   "execution_count": 48,
   "metadata": {},
   "outputs": [],
   "source": [
    "newdf = srcdf.merge(strydf[['LID', 'NEXIS_NO_OF_STOREYS']], on=['LID'], how='inner')"
   ]
  },
  {
   "cell_type": "code",
   "execution_count": 49,
   "metadata": {},
   "outputs": [],
   "source": [
    "newdf['NEXIS_NO_OF_STOREYS'] = newdf['NEXIS_NO_OF_STOREYS'].astype(int)"
   ]
  },
  {
   "cell_type": "code",
   "execution_count": 50,
   "metadata": {},
   "outputs": [],
   "source": [
    "newdf['SS_VULNERABILITY_FUNCTION'] = ''"
   ]
  },
  {
   "cell_type": "code",
   "execution_count": 51,
   "metadata": {},
   "outputs": [
    {
     "data": {
      "text/html": [
       "<div>\n",
       "<style scoped>\n",
       "    .dataframe tbody tr th:only-of-type {\n",
       "        vertical-align: middle;\n",
       "    }\n",
       "\n",
       "    .dataframe tbody tr th {\n",
       "        vertical-align: top;\n",
       "    }\n",
       "\n",
       "    .dataframe thead th {\n",
       "        text-align: right;\n",
       "    }\n",
       "</style>\n",
       "<table border=\"1\" class=\"dataframe\">\n",
       "  <thead>\n",
       "    <tr style=\"text-align: right;\">\n",
       "      <th>NEXIS_NO_OF_STOREYS</th>\n",
       "      <th>1</th>\n",
       "      <th>2</th>\n",
       "    </tr>\n",
       "    <tr>\n",
       "      <th>WALL_TYPE</th>\n",
       "      <th></th>\n",
       "      <th></th>\n",
       "    </tr>\n",
       "  </thead>\n",
       "  <tbody>\n",
       "    <tr>\n",
       "      <th>Cavity and Solid Masonry</th>\n",
       "      <td>24380</td>\n",
       "      <td>3503</td>\n",
       "    </tr>\n",
       "    <tr>\n",
       "      <th>Fibre Cement</th>\n",
       "      <td>4676</td>\n",
       "      <td>187</td>\n",
       "    </tr>\n",
       "    <tr>\n",
       "      <th>RC or RM</th>\n",
       "      <td>1820</td>\n",
       "      <td>97</td>\n",
       "    </tr>\n",
       "    <tr>\n",
       "      <th>Timber</th>\n",
       "      <td>9606</td>\n",
       "      <td>491</td>\n",
       "    </tr>\n",
       "    <tr>\n",
       "      <th>Veneer Masonry</th>\n",
       "      <td>12287</td>\n",
       "      <td>425</td>\n",
       "    </tr>\n",
       "  </tbody>\n",
       "</table>\n",
       "</div>"
      ],
      "text/plain": [
       "NEXIS_NO_OF_STOREYS           1     2\n",
       "WALL_TYPE                            \n",
       "Cavity and Solid Masonry  24380  3503\n",
       "Fibre Cement               4676   187\n",
       "RC or RM                   1820    97\n",
       "Timber                     9606   491\n",
       "Veneer Masonry            12287   425"
      ]
     },
     "execution_count": 51,
     "metadata": {},
     "output_type": "execute_result"
    }
   ],
   "source": [
    "newdf.pivot_table(index=['WALL_TYPE'], columns= ['NEXIS_NO_OF_STOREYS'], aggfunc='size')"
   ]
  },
  {
   "cell_type": "code",
   "execution_count": 62,
   "metadata": {},
   "outputs": [],
   "source": [
    "newdf.loc[(newdf['NEXIS_NO_OF_STOREYS']==1) & (newdf['WALL_TYPE']=='Timber'), 'SS_VULNERABILITY_FUNCTION'] = 'SS1'\n",
    "newdf.loc[(newdf['NEXIS_NO_OF_STOREYS']==1) & (newdf['WALL_TYPE']=='Fibre Cement'), 'SS_VULNERABILITY_FUNCTION'] = 'SS3'\n",
    "newdf.loc[(newdf['NEXIS_NO_OF_STOREYS']==1) & (newdf['WALL_TYPE']=='Veneer Masonry'), 'SS_VULNERABILITY_FUNCTION'] = 'SS2'\n",
    "newdf.loc[(newdf['NEXIS_NO_OF_STOREYS']==1) & (newdf['WALL_TYPE']=='RC or RM'), 'SS_VULNERABILITY_FUNCTION'] = 'SS4'\n",
    "newdf.loc[(newdf['NEXIS_NO_OF_STOREYS']==1) & (newdf['WALL_TYPE']=='Cavity and Solid Masonry'), 'SS_VULNERABILITY_FUNCTION'] = 'SS4'\n",
    "\n",
    "newdf.loc[(newdf['NEXIS_NO_OF_STOREYS']==2) & (newdf['WALL_TYPE']=='Timber'), 'SS_VULNERABILITY_FUNCTION'] = 'SS5'\n",
    "newdf.loc[(newdf['NEXIS_NO_OF_STOREYS']==2) & (newdf['WALL_TYPE']=='Fibre Cement'), 'SS_VULNERABILITY_FUNCTION'] = 'SS5'\n",
    "newdf.loc[(newdf['NEXIS_NO_OF_STOREYS']==2) & (newdf['WALL_TYPE']=='Veneer Masonry'), 'SS_VULNERABILITY_FUNCTION'] = 'SS6'\n",
    "newdf.loc[(newdf['NEXIS_NO_OF_STOREYS']==2) & (newdf['WALL_TYPE']=='RC or RM'), 'SS_VULNERABILITY_FUNCTION'] = 'SS7'\n",
    "newdf.loc[(newdf['NEXIS_NO_OF_STOREYS']==2) & (newdf['WALL_TYPE']=='Cavity and Solid Masonry'), 'SS_VULNERABILITY_FUNCTION'] = 'SS7'\n"
   ]
  },
  {
   "cell_type": "code",
   "execution_count": 63,
   "metadata": {},
   "outputs": [],
   "source": [
    "newdf['FLOOR_HEIGHT_ABOVE_GROUND'] = 0.3\n",
    "newdf.loc[newdf['SS_VULNERABILITY_FUNCTION'].isin(['SS1', 'SS5']), 'FLOOR_HEIGHT_ABOVE_GROUND'] = 2.0"
   ]
  },
  {
   "cell_type": "code",
   "execution_count": 66,
   "metadata": {},
   "outputs": [],
   "source": [
    "newdf.to_csv(os.path.join(DESTPATH, \"Cairns_TILES_Residential_Wind_Exposure_202402v15.9_surge.csv\"), index=False)"
   ]
  }
 ],
 "metadata": {
  "kernelspec": {
   "display_name": "process",
   "language": "python",
   "name": "python3"
  },
  "language_info": {
   "codemirror_mode": {
    "name": "ipython",
    "version": 3
   },
   "file_extension": ".py",
   "mimetype": "text/x-python",
   "name": "python",
   "nbconvert_exporter": "python",
   "pygments_lexer": "ipython3",
   "version": "3.9.18"
  }
 },
 "nbformat": 4,
 "nbformat_minor": 2
}
