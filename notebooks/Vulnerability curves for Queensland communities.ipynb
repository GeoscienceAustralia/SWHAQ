{
 "cells": [
  {
   "cell_type": "markdown",
   "metadata": {},
   "source": [
    "# Vulnerability curves for Queensland communities\n",
    "\n",
    "For the Severe Wind Hazard Assessment project (2018-2020), GA is analysing the impacts of severe tropical cyclones on Queensland communities. Part of this work relies on an understanding of the vulnerability to severe winds of residential buildings in those communities. \n",
    "\n",
    "There are subtle differences in the construction and design of residential buildings in the communities along the Queensland coast and for this reason, GA engaged the services of James Cook University's Cyclone Testing Station (CTS) to refine the suite of heuristic wind vulnerability curves. \n",
    "\n",
    "The heuristic vulnerability models contained in the CTS report (JCU, 2018(b)) represent the best available opinion on the vulnerability of house types in the study areas with which JCU had some experience. They were adjusted to account for wind-borne debris damage that might be incurred by houses situated within suburban environments as opposed to single isolated houses. However, for some house types, there is little or no data or experience available to inform the assessment of vulnerability. In these cases, vulnerability models from Geoscience Australia (2013) were used without modification."
   ]
  },
  {
   "cell_type": "code",
   "execution_count": null,
   "metadata": {},
   "outputs": [],
   "source": [
    "%matplotlib inline\n",
    "\n",
    "import numpy as np\n",
    "import matplotlib.pyplot as plt\n",
    "import seaborn as sns\n",
    "sns.set_style('whitegrid')\n",
    "sns.set_context(\"poster\")\n",
    "sns.set_palette(\"Paired\", 10)\n",
    "\n",
    "import pandas as pd\n",
    "\n",
    "vuln_file = \"X:/georisk/HaRIA_B_Wind/projects/qfes_swha/data/derived/vulnerability/domestic_wind_vul_curves_wJCU.csv\"\n",
    "#vuln_file = \"E:/Work/DFES/data/vulnerability/swha_domestic_wind_vul_curves.csv\"\n",
    "df = pd.read_csv(vuln_file)\n",
    "regions = pd.unique(df['Region'])\n"
   ]
  },
  {
   "cell_type": "code",
   "execution_count": null,
   "metadata": {},
   "outputs": [],
   "source": [
    "def plotCurves(df, region, as4055, units='m/s'):\n",
    "    fig, ax = plt.subplots(1, 1, figsize=(12,6))\n",
    "    iml = df['IML'].dropna().values\n",
    "    if units == 'km/h':\n",
    "        iml *= 3.6\n",
    "        \n",
    "    subsdf = df[(df.Region==region) &\n",
    "                #(df.Age == age) &\n",
    "                (df['AS4055 class.'] == as4055)]\n",
    "    for idx, row in subsdf.iterrows():\n",
    "        if (np.isnan(row[-37])):\n",
    "            continue\n",
    "        label = '{0} {1}, {2}'.format(row['Region'], row['Age'], row['AS4055 class.'])\n",
    "        ax.plot(iml, row[-38:].values, label=label, lw=2, ls='-.')\n",
    "        \n",
    "    ax.grid(True, which='both')\n",
    "    ax.legend(fontsize='xx-small')\n",
    "    xlabel = \"0.2 second gust wind speed ({0})\".format(units)\n",
    "    ax.set_xlabel(xlabel)\n",
    "    ax.set_ylabel(\"Damage index\")\n",
    "    ax.set_title(\"{0}\".format(region))\n",
    "    fig.tight_layout()\n",
    "    plt.savefig(\"X:/georisk/HaRIA_B_Wind/projects/qfes_swha/data/derived/vulnerability/{0} vulnerability.png\".format(region))"
   ]
  },
  {
   "cell_type": "code",
   "execution_count": null,
   "metadata": {},
   "outputs": [],
   "source": [
    "plotCurves(df, 'Qld region B', \"N5\", units='km/h')"
   ]
  },
  {
   "cell_type": "code",
   "execution_count": null,
   "metadata": {},
   "outputs": [],
   "source": []
  }
 ],
 "metadata": {
  "kernelspec": {
   "display_name": "Python 3.9.12 ('process')",
   "language": "python",
   "name": "python3"
  },
  "language_info": {
   "codemirror_mode": {
    "name": "ipython",
    "version": 3
   },
   "file_extension": ".py",
   "mimetype": "text/x-python",
   "name": "python",
   "nbconvert_exporter": "python",
   "pygments_lexer": "ipython3",
   "version": "3.9.12"
  },
  "vscode": {
   "interpreter": {
    "hash": "51f0b0e1912627e3efa48602cb2acd529b282a7bd044c027726a3da5d4d6d60a"
   }
  }
 },
 "nbformat": 4,
 "nbformat_minor": 2
}
