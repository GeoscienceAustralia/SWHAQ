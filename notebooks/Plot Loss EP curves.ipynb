{
 "cells": [
  {
   "cell_type": "code",
   "execution_count": null,
   "metadata": {},
   "outputs": [],
   "source": [
    "%matplotlib inline\n",
    "import os\n",
    "import pandas as pd\n",
    "import numpy as np\n",
    "from matplotlib import pyplot as plt\n",
    "from matplotlib import patheffects\n",
    "\n",
    "import seaborn as sns\n",
    "sns.set_style('ticks')\n",
    "sns.set_context('talk')\n",
    "pe = patheffects.withStroke(foreground=\"white\", linewidth=5)\n",
    "SOURCEDIR = r\"X:\\georisk\\HaRIA_B_Wind\\projects\\qfes_swha\\data\\DRAFT DATA STRUCTURES\\1. Work Unit Assessment\\SOUTH EAST QUEENSLAND\\Risk\\AAL\\pp_baseline\""
   ]
  },
  {
   "cell_type": "code",
   "execution_count": null,
   "metadata": {},
   "outputs": [],
   "source": [
    "ARIS = [1, 2, 3, 4, 5, 10, 15, 20, 30, 35, 40, 45, 50, 75, 100, 150, 200, 250, 300, 350, 400, 450, 500, 1000, 2000, 2500, 5000, 10000]\n",
    "AEP = 1.0 - np.exp(-1.0/np.array(ARIS))\n",
    "df = pd.read_csv(os.path.join(SOURCEDIR, \"structural_mean_LGA.csv\"))\n",
    "lossdf = pd.read_csv(os.path.join(SOURCEDIR, \"structural_loss_sum_LGA.csv\"))"
   ]
  },
  {
   "cell_type": "code",
   "execution_count": null,
   "metadata": {},
   "outputs": [],
   "source": [
    "LGAs = {31000: \"Brisbane\", 33430:\"Gold Coast\", 35010: \"Moreton Bay\", 35740:\"Noosa\", 36250:\"Redland\", 36720:\"Sunshine Coast\"}\n",
    "df = df[df.LGA_CODE.isin(LGAs.keys())]\n",
    "lossdf = lossdf[lossdf.LGA_CODE.isin(LGAs.keys())]"
   ]
  },
  {
   "cell_type": "code",
   "execution_count": null,
   "metadata": {},
   "outputs": [],
   "source": [
    "fig, ax = plt.subplots(1, 1, figsize=(12, 8))\n",
    "for idx, row in df.iterrows():\n",
    "    x = row.drop([\"LGA_CODE\", \"AAL\"]).values\n",
    "    ax.semilogy(x, AEP, path_effects=[pe], label=LGAs[row.LGA_CODE])\n",
    "ax.grid(which='major', linestyle='-')\n",
    "ax.grid(which='minor', linestyle='--', linewidth=0.5)\n",
    "ax.legend()\n",
    "ax.set_ylabel(\"AEP\")\n",
    "ax.set_xlabel(\"Structural loss ratio\")\n",
    "plt.savefig(os.path.join(SOURCEDIR, \"structural_mean_LGA_EPcurve.png\", bbox_inches=\"tight\")"
   ]
  },
  {
   "cell_type": "code",
   "execution_count": null,
   "metadata": {},
   "outputs": [],
   "source": [
    "fig, ax = plt.subplots(1, 1, figsize=(12, 8))\n",
    "for idx, row in lossdf.iterrows():\n",
    "    x = row.drop([\"LGA_CODE\", \"AAL\"]).values\n",
    "    ax.semilogy(x, AEP, path_effects=[pe], label=LGAs[row.LGA_CODE])\n",
    "ax.grid(which='major', linestyle='-')\n",
    "ax.grid(which='minor', linestyle='--', linewidth=0.5)\n",
    "ax.legend()\n",
    "ax.set_ylabel(\"AEP\")\n",
    "ax.set_xlabel(\"Structural loss [A$ million]\")\n",
    "plt.savefig(os.path.join(SOURCEDIR, \"structural_loss_sum_LGA_EPcurve.png\"), bbox_inches=\"tight\")"
   ]
  }
 ],
 "metadata": {
  "interpreter": {
   "hash": "415c52bfd547e7f6bd29e852659d7de173e2056e69583b0ad60e2755028bc492"
  },
  "kernelspec": {
   "display_name": "Python 3.7.12 64-bit ('base': conda)",
   "language": "python",
   "name": "python3"
  },
  "language_info": {
   "codemirror_mode": {
    "name": "ipython",
    "version": 3
   },
   "file_extension": ".py",
   "mimetype": "text/x-python",
   "name": "python",
   "nbconvert_exporter": "python",
   "pygments_lexer": "ipython3",
   "version": "3.7.12"
  }
 },
 "nbformat": 4,
 "nbformat_minor": 2
}
