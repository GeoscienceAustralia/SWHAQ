{
 "cells": [
  {
   "cell_type": "code",
   "execution_count": null,
   "metadata": {},
   "outputs": [],
   "source": [
    "%matplotlib inline\n",
    "import os\n",
    "import pandas as pd\n",
    "import numpy as np\n",
    "from matplotlib import pyplot as plt\n",
    "from matplotlib import patheffects\n",
    "from matplotlib import ticker\n",
    "\n",
    "import seaborn as sns\n",
    "sns.set_style('ticks')\n",
    "sns.set_context('talk')\n",
    "pe = patheffects.withStroke(foreground=\"white\", linewidth=5)\n",
    "SOURCEDIR = r\"X:\\georisk\\HaRIA_B_Wind\\projects\\qfes_swha\\data\\DRAFT DATA STRUCTURES\\1. Work Unit Assessment\\SOUTH EAST QUEENSLAND\\Risk\\AAL\\pp_retro_5\""
   ]
  },
  {
   "cell_type": "code",
   "execution_count": null,
   "metadata": {},
   "outputs": [],
   "source": [
    "ARIS = [1, 2, 3, 4, 5, 10, 15, 20, 30, 35, 40, 45, 50, 75, 100, 150, 200, 250, 300, 350, 400, 450, 500, 1000, 2000, 2500, 5000, 10000]\n",
    "AEP = 1.0 - np.exp(-1.0/np.array(ARIS))\n",
    "df = pd.read_csv(os.path.join(SOURCEDIR, \"structural_mean_LGA.csv\"))\n",
    "lossdf = pd.read_csv(os.path.join(SOURCEDIR, \"structural_loss_sum_LGA.csv\"))"
   ]
  },
  {
   "cell_type": "code",
   "execution_count": null,
   "metadata": {},
   "outputs": [],
   "source": [
    "LGAs = {31000: \"Brisbane\", 33430:\"Gold Coast\", 35010: \"Moreton Bay\", 35740:\"Noosa\", 36250:\"Redland\", 36720:\"Sunshine Coast\"}\n",
    "df = df[df.LGA_CODE.isin(LGAs.keys())]\n",
    "lossdf = lossdf[lossdf.LGA_CODE.isin(LGAs.keys())]"
   ]
  },
  {
   "cell_type": "code",
   "execution_count": null,
   "metadata": {},
   "outputs": [],
   "source": [
    "fig, ax = plt.subplots(1, 1, figsize=(12, 8))\n",
    "for idx, row in df.iterrows():\n",
    "    x = row.drop([\"LGA_CODE\", \"AAL\"]).values\n",
    "    ax.semilogy(x, AEP, path_effects=[pe], label=LGAs[row.LGA_CODE])\n",
    "ax.grid(which='major', linestyle='-')\n",
    "ax.grid(which='minor', linestyle='--', linewidth=0.5)\n",
    "ax.legend()\n",
    "ax.set_ylabel(\"AEP\")\n",
    "ax.set_xlabel(\"Structural loss ratio\")\n",
    "plt.savefig(os.path.join(SOURCEDIR, \"structural_mean_LGA_EPcurve.png\"), bbox_inches=\"tight\")"
   ]
  },
  {
   "cell_type": "code",
   "execution_count": null,
   "metadata": {},
   "outputs": [],
   "source": [
    "fig, ax = plt.subplots(1, 1, figsize=(12, 8))\n",
    "for idx, row in lossdf.iterrows():\n",
    "    x = row.drop([\"LGA_CODE\", \"AAL\"]).values\n",
    "    ax.semilogy(x, AEP, path_effects=[pe], label=LGAs[row.LGA_CODE])\n",
    "ax.grid(which='major', linestyle='-')\n",
    "ax.grid(which='minor', linestyle='--', linewidth=0.5)\n",
    "ax.legend()\n",
    "ax.set_ylabel(\"AEP\")\n",
    "ax.set_xlabel(\"Structural loss [A$ million]\")\n",
    "ax.xaxis.set_major_formatter(ticker.StrMethodFormatter('{x:,.0f}'))\n",
    "plt.savefig(os.path.join(SOURCEDIR, \"structural_loss_sum_LGA_EPcurve.png\"), bbox_inches=\"tight\")"
   ]
  },
  {
   "cell_type": "code",
   "execution_count": null,
   "metadata": {},
   "outputs": [],
   "source": [
    "fig, ax = plt.subplots(1, 1, figsize=(12, 8))\n",
    "for idx, row in df.iterrows():\n",
    "    x = row.drop([\"LGA_CODE\", \"AAL\"]).values\n",
    "    ax.semilogy(x*AEP, AEP, path_effects=[pe], label=LGAs[row.LGA_CODE])\n",
    "ax.grid(which='major', linestyle='-')\n",
    "ax.grid(which='minor', linestyle='--', linewidth=0.5)\n",
    "ax.set_title(\"Expected loss curves (SLR)\")\n",
    "ax.legend()\n",
    "ax.set_ylabel(\"AEP\")\n",
    "ax.set_xlabel(\"Expected loss ratio\")\n",
    "plt.savefig(os.path.join(SOURCEDIR, \"structural_mean_LGA_ELcurve.png\"), bbox_inches=\"tight\")"
   ]
  },
  {
   "cell_type": "code",
   "execution_count": null,
   "metadata": {},
   "outputs": [],
   "source": [
    "fig, ax = plt.subplots(1, 1, figsize=(12, 8))\n",
    "for idx, row in lossdf.iterrows():\n",
    "    x = row.drop([\"LGA_CODE\", \"AAL\"]).values\n",
    "    ax.semilogy(x*AEP, AEP, path_effects=[pe], label=LGAs[row.LGA_CODE])\n",
    "ax.grid(which='major', linestyle='-')\n",
    "ax.grid(which='minor', linestyle='--', linewidth=0.5)\n",
    "ax.set_title(\"Expected loss curves (SLV)\")\n",
    "ax.legend()\n",
    "ax.set_ylabel(\"AEP\")\n",
    "ax.set_xlabel(\"Expected loss [A$ million]\")\n",
    "ax.xaxis.set_major_formatter(ticker.StrMethodFormatter('{x:,.0f}'))\n",
    "plt.savefig(os.path.join(SOURCEDIR, \"structural_loss_sum_LGA_ELcurve.png\"), bbox_inches=\"tight\")"
   ]
  },
  {
   "cell_type": "markdown",
   "metadata": {},
   "source": [
    "The greatest contribution to the AAL is demonstrated by plotting the expected loss against ARI (or AEP). For the most part, the expected loss values peak between exceedance probabilities of 1:200 and 1:500. The wind hazard profile is dominated by TC at these AEPs. In the case of a changing hazard profile due to changes in TC behaviour, this means we should continue to refine our understanding of the likelihood of TCs and how that may change into the future."
   ]
  },
  {
   "cell_type": "code",
   "execution_count": null,
   "metadata": {},
   "outputs": [],
   "source": [
    "fig, ax = plt.subplots(1, 1, figsize=(12, 8))\n",
    "for idx, row in df.iterrows():\n",
    "    x = row.drop([\"LGA_CODE\", \"AAL\"]).values\n",
    "    ax.semilogx(ARIS, x*AEP, path_effects=[pe], label=LGAs[row.LGA_CODE])\n",
    "ax.grid(which='major', linestyle='-')\n",
    "ax.grid(which='minor', linestyle='--', linewidth=0.5)\n",
    "ax.set_title(\"Expected loss curves (SLR)\")\n",
    "ax.legend()\n",
    "ax.set_xlabel(\"ARI\")\n",
    "ax.set_ylabel(\"Expected loss ratio\")\n",
    "plt.savefig(os.path.join(SOURCEDIR, \"structural_mean_LGA_ELcurveARI.png\"), bbox_inches=\"tight\")"
   ]
  },
  {
   "cell_type": "markdown",
   "metadata": {},
   "source": [
    "To compare the relative dominant loss-causing event, we plot the cumulative expected loss level, normalised by the AAL. Thus all values are in the range [0, 1]. A curve further to the left indicates a greater portion of the loss accumulates at higher exceedance probabilities (shorter return periods). So for the plot below, the losses in Noosa accumulate as a result of more frequent events than other LGAs. Brisbane is the reverse - more extreme events are more dominant in the evaluation of average annual losses. The equivalent figure for structural loss values is qualitatively similar, with Noosa to the left and Brisbane well to the right. The remaining LGAs are more tightly clustered than in the SLV cumulative expected loss values."
   ]
  },
  {
   "cell_type": "code",
   "execution_count": null,
   "metadata": {},
   "outputs": [],
   "source": [
    "fig, ax = plt.subplots(1, 1, figsize=(12, 8))\n",
    "for idx, row in df.iterrows():\n",
    "    x = row.drop([\"LGA_CODE\", \"AAL\"]).values\n",
    "    ax.semilogx(ARIS, np.cumsum(x*AEP)/np.sum(x*AEP), path_effects=[pe], label=LGAs[row.LGA_CODE])\n",
    "ax.grid(which='major', linestyle='-')\n",
    "ax.grid(which='minor', linestyle='--', linewidth=0.5)\n",
    "ax.set_title(\"Normalised expected loss curves (SLR)\")\n",
    "ax.legend()\n",
    "ax.set_xlabel(\"ARI\")\n",
    "ax.set_ylabel(\"Cumulative expected loss ratio\")\n",
    "plt.savefig(os.path.join(SOURCEDIR, \"structural_mean_LGA_CELcurveARI.png\"), bbox_inches=\"tight\")"
   ]
  },
  {
   "cell_type": "code",
   "execution_count": null,
   "metadata": {},
   "outputs": [],
   "source": [
    "fig, ax = plt.subplots(1, 1, figsize=(12, 8))\n",
    "for idx, row in lossdf.iterrows():\n",
    "    x = row.drop([\"LGA_CODE\", \"AAL\"]).values\n",
    "    ax.semilogx(ARIS, np.cumsum(x*AEP)/np.sum(x*AEP), path_effects=[pe], label=LGAs[row.LGA_CODE])\n",
    "ax.grid(which='major', linestyle='-')\n",
    "ax.grid(which='minor', linestyle='--', linewidth=0.5)\n",
    "ax.set_title(\"Normalised expected loss curves (SLV)\")\n",
    "ax.legend()\n",
    "ax.set_xlabel(\"ARI\")\n",
    "ax.set_ylabel(\"Cumulative expected loss (SLV)\")\n",
    "plt.savefig(os.path.join(SOURCEDIR, \"structural_loss_sum_LGA_CELcurveARI.png\"), bbox_inches=\"tight\")"
   ]
  }
 ],
 "metadata": {
  "interpreter": {
   "hash": "86a561845ea3c7f992c724e4e6ff882a49e12de870605ad2e0a0567a4b39c4bc"
  },
  "kernelspec": {
   "display_name": "Python 3.9.12 64-bit ('process': conda)",
   "name": "python3"
  },
  "language_info": {
   "name": "python",
   "version": "3.7.12"
  }
 },
 "nbformat": 4,
 "nbformat_minor": 2
}
