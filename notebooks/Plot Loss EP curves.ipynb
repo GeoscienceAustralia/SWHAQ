{
 "cells": [
  {
   "cell_type": "code",
   "execution_count": null,
   "metadata": {},
   "outputs": [],
   "source": [
    "%matplotlib inline\r\n",
    "import os\r\n",
    "import pandas as pd\r\n",
    "import numpy as np\r\n",
    "from matplotlib import pyplot as plt\r\n",
    "from matplotlib import patheffects\r\n",
    "from matplotlib import ticker\r\n",
    "from scipy.integrate import simpson\r\n",
    "from scipy.interpolate import interp1d\r\n",
    "import seaborn as sns\r\n",
    "sns.set_style('ticks')\r\n",
    "sns.set_context('talk')\r\n",
    "pe = patheffects.withStroke(foreground=\"white\", linewidth=5)\r\n",
    "SOURCEDIR = r\"X:\\georisk\\HaRIA_B_Wind\\projects\\qfes_swha\\data\\DRAFT DATA STRUCTURES\\1. Work Unit Assessment\\SOUTH EAST QUEENSLAND\\Risk\\AAL\\pp_retro5_eligible\""
   ]
  },
  {
   "cell_type": "code",
   "execution_count": null,
   "metadata": {},
   "outputs": [],
   "source": [
    "ARIS = [1, 2, 3, 4, 5, 10, 15, 20, 30, 35, 40, 45, 50, 75, 100, 150, 200, 250, 300, 350, 400, 450, 500, 1000, 2000, 2500, 5000, 10000]\r\n",
    "AEP = 1.0 - np.exp(-1.0/np.array(ARIS))\r\n",
    "df = pd.read_csv(os.path.join(SOURCEDIR, \"structural_mean_LGA.csv\"))\r\n",
    "lossdf = pd.read_csv(os.path.join(SOURCEDIR, \"structural_loss_sum_LGA.csv\"))"
   ]
  },
  {
   "cell_type": "code",
   "execution_count": null,
   "metadata": {},
   "outputs": [],
   "source": [
    "LGAs = {31000: \"Brisbane\", 33430:\"Gold Coast\", 35010: \"Moreton Bay\", 35740:\"Noosa\", 36250:\"Redland\", 36720:\"Sunshine Coast\"}\n",
    "df = df[df.LGA_CODE.isin(LGAs.keys())]\n",
    "lossdf = lossdf[lossdf.LGA_CODE.isin(LGAs.keys())]"
   ]
  },
  {
   "cell_type": "code",
   "execution_count": null,
   "metadata": {},
   "outputs": [],
   "source": [
    "fig, ax = plt.subplots(1, 1, figsize=(12, 8))\n",
    "for idx, row in df.iterrows():\n",
    "    x = row.drop([\"LGA_CODE\", \"AAL\"]).values\n",
    "    ax.semilogy(x, AEP, path_effects=[pe], label=LGAs[row.LGA_CODE])\n",
    "ax.grid(which='major', linestyle='-')\n",
    "ax.grid(which='minor', linestyle='--', linewidth=0.5)\n",
    "ax.legend()\n",
    "ax.set_ylabel(\"AEP\")\n",
    "ax.set_xlabel(\"Structural loss ratio\")\n",
    "plt.savefig(os.path.join(SOURCEDIR, \"structural_mean_LGA_EPcurve.png\"), bbox_inches=\"tight\")"
   ]
  },
  {
   "cell_type": "code",
   "execution_count": null,
   "metadata": {},
   "outputs": [],
   "source": [
    "fig, ax = plt.subplots(1, 1, figsize=(12, 8))\r\n",
    "for idx, row in lossdf.iterrows():\r\n",
    "    x = row.drop([\"LGA_CODE\", \"AAL\"]).values\r\n",
    "    ax.semilogy(x, AEP, path_effects=[pe], label=LGAs[row.LGA_CODE])\r\n",
    "ax.grid(which='major', linestyle='-')\r\n",
    "ax.grid(which='minor', linestyle='--', linewidth=0.5)\r\n",
    "ax.legend()\r\n",
    "ax.set_ylabel(\"AEP\")\r\n",
    "ax.set_xlabel(\"Structural loss [A$ million]\")\r\n",
    "ax.xaxis.set_major_formatter(ticker.StrMethodFormatter('{x:,.0f}'))\r\n",
    "plt.savefig(os.path.join(SOURCEDIR, \"structural_loss_sum_LGA_EPcurve.png\"), bbox_inches=\"tight\")"
   ]
  },
  {
   "cell_type": "markdown",
   "metadata": {},
   "source": [
    "This plot demonstrates that our AAL levels are comparable to the losses associated with more frequent events (i.e. higher AEPs). In all cases, we can show that the AAL is closest to either the 1:3, 1:4 or 1:5 AEP loss. This qualitatively matches our expectation that the AAL should be close to the median loss, which happens to be the 1:2 AEP loss level. Due to the method we take to estimate AEP losses, this should be acceptable."
   ]
  },
  {
   "cell_type": "code",
   "execution_count": null,
   "metadata": {},
   "outputs": [],
   "source": [
    "fig, ax = plt.subplots(1, 2, figsize=(20, 8), sharey=True)\r\n",
    "for idx, row in df.iterrows():\r\n",
    "    x = row.drop([\"LGA_CODE\", \"AAL\"]).values\r\n",
    "    ax[0].loglog(ARIS, x, path_effects=[pe], label=LGAs[row.LGA_CODE])\r\n",
    "    ax[1].loglog(ARIS, x, path_effects=[pe], label=LGAs[row.LGA_CODE])\r\n",
    "    fint = interp1d(x, ARIS)\r\n",
    "    xint = fint(row.AAL)\r\n",
    "    nint = simpson(x*AEP, x=-AEP)\r\n",
    "    xnint = fint(nint)\r\n",
    "    ax[0].hlines(row.AAL, 0, xint, color=plt.gca().lines[-1].get_color(), linestyle='--', linewidth=1)\r\n",
    "    ax[0].vlines(xint, 0, row.AAL, color=plt.gca().lines[-1].get_color(), linestyle='--', linewidth=1)\r\n",
    "\r\n",
    "    ax[1].hlines(nint, 0, xnint, color=plt.gca().lines[-1].get_color(), linestyle='-.', linewidth=1)\r\n",
    "    ax[1].vlines(xnint, 0, nint, color=plt.gca().lines[-1].get_color(), linestyle='-.', linewidth=1)\r\n",
    "\r\n",
    "ax[0].grid(which='major', linestyle='-')\r\n",
    "ax[0].grid(which='minor', linestyle='--', linewidth=0.5)\r\n",
    "ax[0].legend()\r\n",
    "ax[0].set_xlabel(\"AEP\")\r\n",
    "ax[0].set_ylabel(\"Structural loss ratio\")\r\n",
    "ax[1].set_title(\"Integral of expected loss curve\")\r\n",
    "ax[1].grid(which='major', linestyle='-')\r\n",
    "ax[1].grid(which='minor', linestyle='--', linewidth=0.5)\r\n",
    "ax[1].legend()\r\n",
    "ax[1].set_xlabel(\"ARI\")\r\n",
    "ax[0].set_title(\"Integral of EP curve\")\r\n",
    "fig.tight_layout()\r\n",
    "plt.savefig(os.path.join(SOURCEDIR, \"structural_mean_LGA_ELcurve_AALind.png\"), bbox_inches=\"tight\")"
   ]
  },
  {
   "cell_type": "markdown",
   "metadata": {},
   "source": [
    "Using the integral of the exceedance probability curve gives AAL levels that are comparable to loss levels associated with 1:20 or 1:30 AEP events, which is substantially higher than intuitively expected. Using the integral of the expected losses, the AAL is of a similar order of magnitude to the losses associated with 1:3, 1:4 or 1:5 AEP events. We see some truncation in very low losses - this is due to the precision of the underlying vulnerability functions at low wind speeds."
   ]
  },
  {
   "cell_type": "code",
   "execution_count": null,
   "metadata": {},
   "outputs": [],
   "source": [
    "fig, ax = plt.subplots(1, 2, figsize=(20, 8), sharey=True)\r\n",
    "for idx, row in lossdf.iterrows():\r\n",
    "    x = row.drop([\"LGA_CODE\", \"AAL\"]).values\r\n",
    "    ax[0].loglog(ARIS, x, path_effects=[pe], label=LGAs[row.LGA_CODE])\r\n",
    "    ax[1].loglog(ARIS, x, path_effects=[pe], label=LGAs[row.LGA_CODE])\r\n",
    "    fint = interp1d(x, ARIS)\r\n",
    "    xint = fint(row.AAL)\r\n",
    "    nint = simpson(AEP, x=x)\r\n",
    "    xnint = fint(nint)\r\n",
    "    ax[0].hlines(row.AAL, 0, xint, color=plt.gca().lines[-1].get_color(), linestyle='--', linewidth=1)\r\n",
    "    ax[0].vlines(xint, 0, row.AAL, color=plt.gca().lines[-1].get_color(), linestyle='--', linewidth=1)\r\n",
    "\r\n",
    "    ax[1].hlines(nint, 0, xnint, color=plt.gca().lines[-1].get_color(), linestyle='-.', linewidth=1)\r\n",
    "    ax[1].vlines(xnint, 0, nint, color=plt.gca().lines[-1].get_color(), linestyle='-.', linewidth=1)\r\n",
    "\r\n",
    "ax[0].grid(which='major', linestyle='-')\r\n",
    "ax[0].grid(which='minor', linestyle='--', linewidth=0.5)\r\n",
    "ax[0].legend()\r\n",
    "ax[0].set_xlabel(\"AEP\")\r\n",
    "ax[0].set_ylabel(\"Structural loss sum\")\r\n",
    "ax[0].set_title(\"Integral of expected loss curve\")\r\n",
    "ax[1].grid(which='major', linestyle='-')\r\n",
    "ax[1].grid(which='minor', linestyle='--', linewidth=0.5)\r\n",
    "ax[1].legend()\r\n",
    "ax[1].set_xlabel(\"ARI\")\r\n",
    "ax[1].set_title(\"Integral of EP curve\")\r\n",
    "fig.tight_layout()\r\n",
    "plt.savefig(os.path.join(SOURCEDIR, \"structural_loss_sum_LGA_ELcurve_AALind.png\"), bbox_inches=\"tight\")"
   ]
  },
  {
   "cell_type": "code",
   "execution_count": null,
   "metadata": {},
   "outputs": [],
   "source": [
    "fig, ax = plt.subplots(1, 1, figsize=(12, 8))\n",
    "for idx, row in df.iterrows():\n",
    "    x = row.drop([\"LGA_CODE\", \"AAL\"]).values\n",
    "    ax.semilogy(x*AEP, AEP, path_effects=[pe], label=LGAs[row.LGA_CODE])\n",
    "ax.grid(which='major', linestyle='-')\n",
    "ax.grid(which='minor', linestyle='--', linewidth=0.5)\n",
    "ax.set_title(\"Expected loss curves (SLR)\")\n",
    "ax.legend()\n",
    "ax.set_ylabel(\"AEP\")\n",
    "ax.set_xlabel(\"Expected loss ratio\")\n",
    "plt.savefig(os.path.join(SOURCEDIR, \"structural_mean_LGA_ELcurve.png\"), bbox_inches=\"tight\")"
   ]
  },
  {
   "cell_type": "code",
   "execution_count": null,
   "metadata": {},
   "outputs": [],
   "source": [
    "fig, ax = plt.subplots(1, 1, figsize=(12, 8))\n",
    "for idx, row in lossdf.iterrows():\n",
    "    x = row.drop([\"LGA_CODE\", \"AAL\"]).values\n",
    "    ax.semilogy(x*AEP, AEP, path_effects=[pe], label=LGAs[row.LGA_CODE])\n",
    "ax.grid(which='major', linestyle='-')\n",
    "ax.grid(which='minor', linestyle='--', linewidth=0.5)\n",
    "ax.set_title(\"Expected loss curves (SLV)\")\n",
    "ax.legend()\n",
    "ax.set_ylabel(\"AEP\")\n",
    "ax.set_xlabel(\"Expected loss [A$ million]\")\n",
    "ax.xaxis.set_major_formatter(ticker.StrMethodFormatter('{x:,.0f}'))\n",
    "plt.savefig(os.path.join(SOURCEDIR, \"structural_loss_sum_LGA_ELcurve.png\"), bbox_inches=\"tight\")"
   ]
  },
  {
   "cell_type": "markdown",
   "metadata": {},
   "source": [
    "The greatest contribution to the AAL is demonstrated by plotting the expected loss against ARI (or AEP). For the most part, the expected loss values peak between exceedance probabilities of 1:200 and 1:500. The wind hazard profile is dominated by TC at these AEPs. In the case of a changing hazard profile due to changes in TC behaviour, this means we should continue to refine our understanding of the likelihood of TCs and how that may change into the future."
   ]
  },
  {
   "cell_type": "code",
   "execution_count": null,
   "metadata": {},
   "outputs": [],
   "source": [
    "fig, ax = plt.subplots(1, 1, figsize=(12, 8))\n",
    "for idx, row in df.iterrows():\n",
    "    x = row.drop([\"LGA_CODE\", \"AAL\"]).values\n",
    "    ax.semilogx(ARIS, x*AEP, path_effects=[pe], label=LGAs[row.LGA_CODE])\n",
    "ax.grid(which='major', linestyle='-')\n",
    "ax.grid(which='minor', linestyle='--', linewidth=0.5)\n",
    "ax.set_title(\"Expected loss curves (SLR)\")\n",
    "ax.legend()\n",
    "ax.set_xlabel(\"ARI\")\n",
    "ax.set_ylabel(\"Expected loss ratio\")\n",
    "plt.savefig(os.path.join(SOURCEDIR, \"structural_mean_LGA_ELcurveARI.png\"), bbox_inches=\"tight\")"
   ]
  },
  {
   "cell_type": "markdown",
   "metadata": {},
   "source": [
    "To compare the relative dominant loss-causing event, we plot the cumulative expected loss level, normalised by the AAL. Thus all values are in the range [0, 1]. A curve further to the left indicates a greater portion of the loss accumulates at higher exceedance probabilities (shorter return periods). So for the plot below, the losses in Noosa accumulate as a result of more frequent events than other LGAs. Brisbane is the reverse - more extreme events are more dominant in the evaluation of average annual losses. The equivalent figure for structural loss values is qualitatively similar, with Noosa to the left and Brisbane well to the right. The remaining LGAs are more tightly clustered than in the SLV cumulative expected loss values."
   ]
  },
  {
   "cell_type": "code",
   "execution_count": null,
   "metadata": {},
   "outputs": [],
   "source": [
    "fig, ax = plt.subplots(1, 1, figsize=(12, 8))\n",
    "for idx, row in df.iterrows():\n",
    "    x = row.drop([\"LGA_CODE\", \"AAL\"]).values\n",
    "    ax.semilogx(ARIS, np.cumsum(x*AEP)/np.sum(x*AEP), path_effects=[pe], label=LGAs[row.LGA_CODE])\n",
    "ax.grid(which='major', linestyle='-')\n",
    "ax.grid(which='minor', linestyle='--', linewidth=0.5)\n",
    "ax.set_title(\"Normalised expected loss curves (SLR)\")\n",
    "ax.legend()\n",
    "ax.set_xlabel(\"ARI\")\n",
    "ax.set_ylabel(\"Cumulative expected loss ratio\")\n",
    "plt.savefig(os.path.join(SOURCEDIR, \"structural_mean_LGA_CELcurveARI.png\"), bbox_inches=\"tight\")"
   ]
  },
  {
   "cell_type": "code",
   "execution_count": null,
   "metadata": {},
   "outputs": [],
   "source": [
    "fig, ax = plt.subplots(1, 1, figsize=(12, 8))\n",
    "for idx, row in lossdf.iterrows():\n",
    "    x = row.drop([\"LGA_CODE\", \"AAL\"]).values\n",
    "    ax.semilogx(ARIS, np.cumsum(x*AEP)/np.sum(x*AEP), path_effects=[pe], label=LGAs[row.LGA_CODE])\n",
    "ax.grid(which='major', linestyle='-')\n",
    "ax.grid(which='minor', linestyle='--', linewidth=0.5)\n",
    "ax.set_title(\"Normalised expected loss curves (SLV)\")\n",
    "ax.legend()\n",
    "ax.set_xlabel(\"ARI\")\n",
    "ax.set_ylabel(\"Cumulative expected loss (SLV)\")\n",
    "plt.savefig(os.path.join(SOURCEDIR, \"structural_loss_sum_LGA_CELcurveARI.png\"), bbox_inches=\"tight\")"
   ]
  },
  {
   "cell_type": "code",
   "execution_count": null,
   "metadata": {},
   "outputs": [],
   "source": [
    "LGAs[df.loc[0].LGA_CODE]"
   ]
  },
  {
   "cell_type": "code",
   "execution_count": null,
   "metadata": {},
   "outputs": [],
   "source": [
    "fig, ax = plt.subplots(1, 2, figsize=(16, 6), sharey=True)\r\n",
    "x = df.loc[0].drop([\"LGA_CODE\", \"AAL\"])\r\n",
    "ax[0].semilogy(x, AEP, path_effects=[pe], label=\"SLR\")\r\n",
    "ax[0].grid(which='major', linestyle='-')\r\n",
    "ax[0].grid(which='minor', linestyle='--', linewidth=0.5)\r\n",
    "ax[0].legend()\r\n",
    "ax[0].set_ylabel(\"AEP\")\r\n",
    "ax[0].set_xlabel(\"Structural loss ratio\")\r\n",
    "\r\n",
    "ax[1].semilogy(x*AEP*(10**5), AEP, path_effects=[pe], label=\"EL\")\r\n",
    "ax[1].grid(which='major', linestyle='-')\r\n",
    "ax[1].grid(which='minor', linestyle='--', linewidth=0.5)\r\n",
    "ax[1].legend()\r\n",
    "ax[1].set_xlabel(r\"Expected loss ratio [$\\times 10^{-5}$]\")\r\n",
    "plt.tight_layout()\r\n",
    "\r\n",
    "aep1 = 1.0 - np.exp(-1.0/np.array(10))\r\n",
    "aep2 = 1.0 - np.exp(-1.0/np.array(100))\r\n",
    "aep3 = 1.0 - np.exp(-1.0/np.array(1000))\r\n",
    "slr1 = x[5]\r\n",
    "slr2 = x[14]\r\n",
    "slr3 = x[23]\r\n",
    "el1 = slr1 * aep1 * 10**5\r\n",
    "el2 = slr2 * aep2 * 10**5\r\n",
    "el3 = slr3 * aep3 * 10**5\r\n",
    "\r\n",
    "print(slr1, slr2, slr3)\r\n",
    "print(el1, el2, el3)\r\n",
    "\r\n",
    "ax[0].hlines(aep1, 0, slr1, linestyle='--', color='r', linewidth=2, label=f\"AEP={aep1:.3f}\")\r\n",
    "ax[0].hlines(aep2, 0, slr2, linestyle='--', color='g', linewidth=2, label=f\"AEP={aep2:.4f}\")\r\n",
    "ax[0].hlines(aep3, 0, slr3, linestyle='--', color='k', linewidth=2, label=f\"AEP={aep3:.5f}\")\r\n",
    "\r\n",
    "ax[0].vlines(slr1, 0, aep1, linestyle='--', color='r', linewidth=2)\r\n",
    "ax[0].vlines(slr2, 0, aep2, linestyle='--', color='g', linewidth=2)\r\n",
    "ax[0].vlines(slr3, 0, aep3, linestyle='--', color='k', linewidth=2)\r\n",
    "\r\n",
    "ax[1].hlines(aep1, 0, el1, linestyle='--', color='r', linewidth=2, label=f\"AEP={aep1:.3f}\")\r\n",
    "ax[1].hlines(aep2, 0, el2, linestyle='--', color='g', linewidth=2, label=f\"AEP={aep2:.4f}\")\r\n",
    "ax[1].hlines(aep3, 0, el3, linestyle='--', color='k', linewidth=2, label=f\"AEP={aep3:.5f}\")\r\n",
    "ax[1].vlines(el1, 0, aep1, linestyle='--', color='r', linewidth=2)\r\n",
    "ax[1].vlines(el2, 0, aep2, linestyle='--', color='g', linewidth=2)\r\n",
    "ax[1].vlines(el3, 0, aep3, linestyle='--', color='k', linewidth=2)\r\n",
    "ax[0].legend()\r\n",
    "ax[1].legend()\r\n",
    "plt.savefig(os.path.join(SOURCEDIR, \"SLR_EL_example.png\"), bbox_inches=\"tight\")\r\n",
    "\r\n"
   ]
  },
  {
   "cell_type": "code",
   "execution_count": null,
   "metadata": {},
   "outputs": [],
   "source": []
  }
 ],
 "metadata": {
  "interpreter": {
   "hash": "568efdb201941bf609d8445e09ed49ceda2e423d5770313e50fd247e0dd3dd74"
  },
  "kernelspec": {
   "display_name": "Python 3.7.3 64-bit ('base': conda)",
   "name": "python3"
  },
  "language_info": {
   "name": "python",
   "version": ""
  }
 },
 "nbformat": 4,
 "nbformat_minor": 2
}