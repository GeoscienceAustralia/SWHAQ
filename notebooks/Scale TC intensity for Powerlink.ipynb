{
 "cells": [
  {
   "cell_type": "code",
   "execution_count": null,
   "metadata": {},
   "outputs": [],
   "source": [
    "%matplotlib inline\n",
    "\n",
    "import os\n",
    "from os.path import join as pjoin\n",
    "import matplotlib.pyplot as plt\n",
    "import matplotlib.cm as cm\n",
    "from matplotlib.collections import LineCollection\n",
    "from matplotlib.colors import BoundaryNorm, ListedColormap\n",
    "from matplotlib.lines import Line2D\n",
    "\n",
    "import cartopy.crs as ccrs\n",
    "import cartopy.feature as feature\n",
    "import numpy as np\n",
    "from Utilities.track import ncReadTrackData, ncSaveTracks\n",
    "from Utilities.loadData import maxWindSpeed\n",
    "\n",
    "import pandas as pd\n",
    "from datetime import datetime\n",
    "\n",
    "import seaborn as sns\n",
    "sns.set_context('talk')"
   ]
  },
  {
   "cell_type": "code",
   "execution_count": null,
   "metadata": {},
   "outputs": [],
   "source": [
    "def makeSegments(xx, yy):\n",
    "    points = np.array([xx, yy]).T.reshape(-1, 1, 2)\n",
    "    segments = np.concatenate([points[:-1], points[1:]], axis=1)\n",
    "\n",
    "    return segments\n",
    "\n",
    "def colorline(ax, xdata, ydata, zdata=None, alpha=0.9):\n",
    "    \"\"\"\n",
    "    Given a collection of x,y points and optionally magnitude\n",
    "    values for each point, plot the data as a collection of\n",
    "    coloured line segments. Line segments are added to the given \n",
    "    :class:`matplotlib.axes` instance.\n",
    "    \n",
    "    .. note:: Currently, intervals are hard-coded\n",
    "              for plotting the central pressure of TCs. \n",
    "              [800, 920, 935, 950, 970, 985, 1050]\n",
    "    \n",
    "    :params ax: :class:`matplotlib.axes` instance on which to plot the line segments\n",
    "    :param xdata: array of x-coordinates of points to plot\n",
    "    :param ydata: array of y-coordinates of points to plot\n",
    "    :param zdata: (optional) array of magnitude values of the points to inform colouring\n",
    "    :param alpha: transparency of the lines (default=0.9)\n",
    "    \n",
    "    \"\"\"\n",
    "    colours=['0.75', '#0FABF6', '#0000FF', \n",
    "             '#00FF00', '#FF8100', '#ff0000']\n",
    "    intervals = [0, 17.5, 24.5, 32.5, 44.2, 55.5, 1000]\n",
    "    intervals = [0, 25, 35, 46, 62, 77, 200]\n",
    "    #intervals = [800, 920, 935, 950, 970, 985, 1050]\n",
    "    segments = makeSegments(xdata, ydata)\n",
    "    cmap = ListedColormap(colours)\n",
    "    norm = BoundaryNorm(intervals, cmap.N)\n",
    "    lc = LineCollection(segments, array=zdata, cmap=cmap,\n",
    "                        norm=norm, alpha=alpha)\n",
    "\n",
    "    labels = ['No data', 'Category 1', 'Category 2',\n",
    "              'Category 3', 'Category 4', 'Category 5']\n",
    "    handles = []\n",
    "    for c, l in zip(cmap.colors, labels):\n",
    "        handles.append(Line2D([0], [0], color=c, label=l))\n",
    "\n",
    "    ax.add_collection(lc)\n",
    "    ax.legend(handles, labels, loc=2, frameon=True, prop={'size': 10})\n",
    "    return ax"
   ]
  },
  {
   "cell_type": "code",
   "execution_count": null,
   "metadata": {},
   "outputs": [],
   "source": [
    "dataPath = r\"\\\\prod.lan\\active\\ops\\community_safety\\georisk\\HaRIA_B_Wind\\projects\\powerlink\\data\\derived\\tracks\"\n",
    "source_track = pjoin(dataPath, 'track.007-02914.nc')\n",
    "tracks = ncReadTrackData(source_track)\n",
    "t = pd.DataFrame.from_records(tracks[0].data)"
   ]
  },
  {
   "cell_type": "code",
   "execution_count": null,
   "metadata": {},
   "outputs": [],
   "source": [
    "def scalePressureDeficit(pc, poci, scale=0.8):\n",
    "    scaleddp = scale * (poci - pc)\n",
    "    return poci - scaleddp"
   ]
  },
  {
   "cell_type": "code",
   "execution_count": null,
   "metadata": {},
   "outputs": [],
   "source": [
    "dtname = 'Datetime'\n",
    "idx = t.CycloneNumber.values\n",
    "cp = t.CentralPressure.values\n",
    "\n",
    "varidx = np.ones(len(idx))\n",
    "varidx[1:][idx[1:]==idx[:-1]] = 0\n",
    "dt = (t[dtname] - t[dtname].shift()).fillna(pd.Timedelta(seconds=0)).apply(lambda x: x / np.timedelta64(1,'m')).astype('int64') % (24*60) / 60\n",
    "\n",
    "vmax = maxWindSpeed(varidx, dt.values, t.Longitude.values, t.Latitude.values,\n",
    "                              t.CentralPressure.values, t.EnvPressure.values, gustfactor=1.223)\n",
    "\n",
    "vmax085 = maxWindSpeed(varidx, dt.values, t.Longitude.values, t.Latitude.values,\n",
    "                           scalePressureDeficit(t.CentralPressure.values, t.EnvPressure.values, 0.85),\n",
    "                           t.EnvPressure.values, gustfactor=1.223)\n",
    "\n",
    "vmax12 = maxWindSpeed(varidx, dt.values, t.Longitude.values, t.Latitude.values,\n",
    "                           scalePressureDeficit(t.CentralPressure.values, t.EnvPressure.values, 1.2),\n",
    "                           t.EnvPressure.values, gustfactor=1.223)\n",
    "\n",
    "vmax15 = maxWindSpeed(varidx, dt.values, t.Longitude.values, t.Latitude.values,\n",
    "                           scalePressureDeficit(t.CentralPressure.values, t.EnvPressure.values, 1.5),\n",
    "                           t.EnvPressure.values, gustfactor=1.223)\n",
    "\n",
    "vmax17 = maxWindSpeed(varidx, dt.values, t.Longitude.values, t.Latitude.values,\n",
    "                           scalePressureDeficit(t.CentralPressure.values, t.EnvPressure.values, 1.7),\n",
    "                           t.EnvPressure.values, gustfactor=1.223)\n"
   ]
  },
  {
   "cell_type": "code",
   "execution_count": null,
   "metadata": {},
   "outputs": [],
   "source": [
    "t.Datetime = t.Datetime.apply(lambda x: datetime.strptime(x.strftime(\"%Y-%m-%d %H:%M:%S\"), \"%Y-%m-%d %H:%M:%S\"))"
   ]
  },
  {
   "cell_type": "code",
   "execution_count": null,
   "metadata": {},
   "outputs": [],
   "source": [
    "fig = plt.figure(figsize=(8, 8))\n",
    "ax = plt.axes(projection=ccrs.PlateCarree())\n",
    "ax.coastlines(resolution='10m', color='black', linewidth=1)\n",
    "ax.add_feature(feature.BORDERS)\n",
    "gl = ax.gridlines(linestyle=\":\", draw_labels=True)\n",
    "ax.add_feature(feature.LAND, zorder=0)\n",
    "ax.set_xlim((140, 160))\n",
    "ax.set_ylim((-25, -10))\n",
    "colorline(ax, t.Longitude, t.Latitude, vmax)\n",
    "None"
   ]
  },
  {
   "cell_type": "code",
   "execution_count": null,
   "metadata": {},
   "outputs": [],
   "source": [
    "fig, ax = plt.subplots(1,1, figsize=(12, 6))\n",
    "ax.plot(t.Datetime, vmax, color='k', label=\"Base scenario\")\n",
    "ax.plot(t.Datetime, vmax085, color='b', label=r\"0.85 $\\Delta p$\")\n",
    "ax.plot(t.Datetime, vmax12, color='g', label=r\"1.2 $\\Delta p$\")\n",
    "ax.plot(t.Datetime, vmax15, color='red', label=r\"1.5 $\\Delta p$\")\n",
    "ax.plot(t.Datetime, vmax17, color='purple', label=r\"1.7 $\\Delta p$\")\n",
    "\n",
    "plt.xticks(rotation='vertical')\n",
    "#[0, 25, 35, 46, 62, 77, 200]\n",
    "ax.axhline(25, color='#0FABF6')\n",
    "ax.axhline(35, color='#0000FF')\n",
    "ax.axhline(46, color='#00FF00')\n",
    "ax.axhline(62, color='#FF8100')\n",
    "ax.axhline(77, color='#FF0000')\n",
    "ax.grid(True)\n",
    "ax.set_ylabel(\"Wind speed (m/s)\")\n",
    "ax.set_xlabel(\"Time\")\n",
    "ax.legend(loc='center left', bbox_to_anchor=(1.05, 0.5))\n",
    "plt.savefig(r\"\\\\prod.lan\\active\\ops\\community_safety\\georisk\\HaRIA_B_Wind\\projects\\powerlink\\data\\derived\\tracks\\007-02914_scaling.png\", bbox_inches=\"tight\")\n",
    "None"
   ]
  },
  {
   "cell_type": "code",
   "execution_count": null,
   "metadata": {},
   "outputs": [],
   "source": [
    "t.index.rename('Datetime')\n",
    "t.CentralPressure = scalePressureDeficit(cp, t.EnvPressure.values, 1.7)\n",
    "tracks[0].data = t.to_records(index=False)\n",
    "\n",
    "scenarioTrackFile = pjoin(dataPath, 'track.007-09962.2d.nc')\n",
    "atts = {\"history\":\"Scaled pressure deficit by a factor of 1.7 from base scenario\",\n",
    "        \"title\":\"Synthetic tropical cyclone track scenario 007-09962\"}\n",
    "ncSaveTracks(scenarioTrackFile, tracks, calendar='julian', attributes=atts)"
   ]
  },
  {
   "cell_type": "code",
   "execution_count": null,
   "metadata": {},
   "outputs": [],
   "source": [
    "t.CentralPressure = scalePressureDeficit(cp, t.EnvPressure.values, 1.5)\n",
    "tracks[0].data = t.to_records(index=False)\n",
    "\n",
    "scenarioTrackFile = pjoin(dataPath, 'track.007-03074.15.nc')\n",
    "atts = {\"history\":\"Scaled pressure deficit by a factor of 1.5 from base scenario\",\n",
    "        \"title\":\"Synthetic tropical cyclone track scenario 007-03074\"}\n",
    "ncSaveTracks(scenarioTrackFile, tracks, calendar='julian', attributes=atts)"
   ]
  },
  {
   "cell_type": "code",
   "execution_count": null,
   "metadata": {},
   "outputs": [],
   "source": [
    "t.CentralPressure = scalePressureDeficit(cp, t.EnvPressure.values, 1.2)\n",
    "tracks[0].data = t.to_records(index=False)\n",
    "\n",
    "scenarioTrackFile = pjoin(dataPath, 'track.007-09962.2b.nc')\n",
    "atts = {\"history\":\"Scaled pressure deficit by a factor of 1.2 from base scenario\",\n",
    "        \"title\":\"Synthetic tropical cyclone track scenario 007-09962\"}\n",
    "ncSaveTracks(scenarioTrackFile, tracks, calendar='julian', attributes=atts)"
   ]
  },
  {
   "cell_type": "code",
   "execution_count": null,
   "metadata": {},
   "outputs": [],
   "source": [
    "t.CentralPressure = scalePressureDeficit(cp, t.EnvPressure.values, 0.85)\n",
    "tracks[0].data = t.to_records(index=False)\n",
    "\n",
    "scenarioTrackFile = pjoin(dataPath, 'track.007-09962.2a.nc')\n",
    "atts = {\"history\":\"Scaled pressure deficit by a factor of 0.85 from base scenario\",\n",
    "        \"title\":\"Synthetic tropical cyclone track scenario 007-09962\"}\n",
    "ncSaveTracks(scenarioTrackFile, tracks, calendar='julian', attributes=atts)"
   ]
  }
 ],
 "metadata": {
  "kernelspec": {
   "display_name": "Python 3",
   "language": "python",
   "name": "python3"
  },
  "language_info": {
   "codemirror_mode": {
    "name": "ipython",
    "version": 3
   },
   "file_extension": ".py",
   "mimetype": "text/x-python",
   "name": "python",
   "nbconvert_exporter": "python",
   "pygments_lexer": "ipython3",
   "version": "3.7.6"
  }
 },
 "nbformat": 4,
 "nbformat_minor": 4
}
